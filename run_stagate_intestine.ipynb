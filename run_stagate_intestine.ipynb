{
 "cells": [
  {
   "cell_type": "code",
   "execution_count": 1,
   "id": "5c30aa3b-e8df-470b-8d89-59e10f5a8c56",
   "metadata": {},
   "outputs": [],
   "source": [
    "import warnings\n",
    "warnings.filterwarnings(\"ignore\")\n",
    "import pandas as pd\n",
    "import numpy as np\n",
    "import scanpy as sc\n",
    "import matplotlib.pyplot as plt\n",
    "import os, time \n",
    "import sys\n",
    "from memory_profiler import memory_usage\n",
    "from scipy import sparse\n",
    "\n",
    "import torch\n",
    "import STAGATE_pyG\n",
    "#import STAGATE\n",
    "\n",
    "\n",
    "from sklearn.metrics.cluster import adjusted_rand_score"
   ]
  },
  {
   "cell_type": "code",
   "execution_count": 2,
   "id": "57a1cb78-cb05-48ef-ad9c-7f4c9530ab9b",
   "metadata": {},
   "outputs": [],
   "source": [
    "start_time = time.time()  # Start time\n",
    "memory_before = memory_usage()[0]  # Memory before execution"
   ]
  },
  {
   "cell_type": "code",
   "execution_count": 3,
   "id": "cae89f82-11dd-4d13-a8f3-a548a57bcfb6",
   "metadata": {},
   "outputs": [
    {
     "name": "stdout",
     "output_type": "stream",
     "text": [
      "  (0, 1)\t10.0\n",
      "  (0, 2)\t1.0\n",
      "  (0, 3)\t2.0\n",
      "  (0, 5)\t4.0\n",
      "  (0, 7)\t1.0\n",
      "  (0, 8)\t1.0\n",
      "  (0, 10)\t2.0\n",
      "  (0, 23)\t5.0\n",
      "  (0, 24)\t8.0\n",
      "  (0, 30)\t14.0\n",
      "  (0, 31)\t5.0\n",
      "  (0, 32)\t7.0\n",
      "  (0, 34)\t1.0\n",
      "  (0, 38)\t3.0\n",
      "  (0, 41)\t1.0\n",
      "  (0, 42)\t1.0\n",
      "  (0, 44)\t8.0\n",
      "  (0, 46)\t2.0\n",
      "  (0, 47)\t2.0\n",
      "  (0, 48)\t8.0\n",
      "  (0, 50)\t1.0\n",
      "  (0, 51)\t1.0\n",
      "  (0, 53)\t9.0\n",
      "  (0, 58)\t1.0\n",
      "  (0, 63)\t5.0\n",
      "  :\t:\n",
      "  (44698, 363)\t10.0\n",
      "  (44698, 365)\t1.0\n",
      "  (44698, 366)\t1.0\n",
      "  (44698, 368)\t1.0\n",
      "  (44698, 374)\t1.0\n",
      "  (44698, 378)\t2.0\n",
      "  (44698, 382)\t1.0\n",
      "  (44698, 394)\t1.0\n",
      "  (44698, 405)\t1.0\n",
      "  (44698, 409)\t1.0\n",
      "  (44698, 416)\t7.0\n",
      "  (44698, 421)\t1.0\n",
      "  (44698, 425)\t1.0\n",
      "  (44698, 426)\t2.0\n",
      "  (44698, 431)\t1.0\n",
      "  (44698, 434)\t2.0\n",
      "  (44698, 435)\t2.0\n",
      "  (44698, 441)\t2.0\n",
      "  (44698, 450)\t2.0\n",
      "  (44698, 451)\t1.0\n",
      "  (44698, 457)\t3.0\n",
      "  (44698, 481)\t1.0\n",
      "  (44698, 487)\t1.0\n",
      "  (44698, 495)\t10.0\n",
      "  (44698, 541)\t1.0\n",
      "1 AnnData object with n_obs × n_vars = 44699 × 550\n",
      "    obs: 'brain_section_label', 'cluster', 'domain', 'nico_ct', 'x', 'y'\n",
      "    var: 'gene_symbol', 'transcript_identifier'\n",
      "    uns: 'accessed_on', 'src'\n",
      "    obsm: 'spatial'\n",
      "2 View of AnnData object with n_obs × n_vars = 44699 × 550\n",
      "    obs: 'brain_section_label', 'cluster', 'domain', 'nico_ct', 'x', 'y'\n",
      "    var: 'gene_symbol', 'transcript_identifier'\n",
      "    uns: 'accessed_on', 'src'\n",
      "    obsm: 'spatial'\n"
     ]
    }
   ],
   "source": [
    "section_id = '151676'\n",
    "\n",
    "#input_dir = os.path.join('Data', section_id)\n",
    "#adata = sc.read_visium(path=input_dir, count_file=section_id+'_filtered_feature_bc_matrix.h5')\n",
    "#adata.var_names_make_unique()\n",
    "adata=sc.read_h5ad('inputQuery/spatial_aba.h5ad')\n",
    "\n",
    "print(adata.X)\n",
    "\n",
    "print('1',adata)\n",
    "index=[]\n",
    "for i in range(len(adata.obs_names)):\n",
    "    flag=1\n",
    "    if adata.obs['nico_ct'][i]=='NM':\n",
    "        flag=0\n",
    "    if adata.obs['nico_ct'][i]=='Cycling/GC B cell':\n",
    "        flag=1\n",
    "    if adata.obs['nico_ct'][i]=='pDC':\n",
    "        flag=1\n",
    "    if flag==1:\n",
    "        index.append(i)\n",
    "\n",
    "adata=adata[index]\n",
    "print('2',adata)\n",
    "\n",
    "#Normalization\n",
    "#sc.pp.highly_variable_genes(adata, flavor=\"seurat_v3\", n_top_genes=3000)\n",
    "sc.pp.normalize_total(adata, target_sum=1e4)\n",
    "sc.pp.log1p(adata)\n",
    "\n",
    "# read the annotation\n",
    "#Ann_df = pd.read_csv(os.path.join('Data', section_id, section_id+'_truth.txt'), sep='\\t', header=None, index_col=0)\n",
    "#Ann_df.columns = ['Ground Truth']\n",
    "\n",
    "#adata.obs['Ground Truth'] = Ann_df.loc[adata.obs_names, 'Ground Truth']\n",
    "adata.obs['Ground Truth'] = adata.obs['nico_ct']\n",
    "\n",
    "#adata.X = sparse.csr_matrix(adata.X)"
   ]
  },
  {
   "cell_type": "code",
   "execution_count": 4,
   "id": "12fe31ae-63f2-4e2a-86a8-c5daaea7d116",
   "metadata": {},
   "outputs": [
    {
     "name": "stdout",
     "output_type": "stream",
     "text": [
      "------Calculating spatial graph...\n",
      "The graph contains 234706 edges, 44699 cells.\n",
      "5.2508 neighbors per cell on average.\n"
     ]
    },
    {
     "data": {
      "image/png": "[encoded data removed]",
      "text/plain": [
       "<Figure size 300x200 with 1 Axes>"
      ]
     },
     "metadata": {},
     "output_type": "display_data"
    }
   ],
   "source": [
    "#Constructing the spatial network\n",
    "\n",
    "STAGATE_pyG.Cal_Spatial_Net(adata, rad_cutoff=0.03)\n",
    "STAGATE_pyG.Stats_Spatial_Net(adata)"
   ]
  },
  {
   "cell_type": "code",
   "execution_count": null,
   "id": "4a502cc9-5f46-43d6-9c67-35dad25fef4b",
   "metadata": {},
   "outputs": [],
   "source": []
  },
  {
   "cell_type": "code",
   "execution_count": null,
   "id": "989f6f94-7890-48f1-a2a3-8a0bf09f558f",
   "metadata": {},
   "outputs": [],
   "source": []
  },
  {
   "cell_type": "code",
   "execution_count": 5,
   "id": "dfec4dd2-f9af-4c5e-9807-cf374d882087",
   "metadata": {},
   "outputs": [
    {
     "name": "stdout",
     "output_type": "stream",
     "text": [
      "Size of Input:  (44699, 550)\n"
     ]
    },
    {
     "name": "stderr",
     "output_type": "stream",
     "text": [
      "100%|███████████████████████████████████████████████████████████████████████████████████████████████████████████████████████████████| 1000/1000 [30:52<00:00,  1.85s/it]\n"
     ]
    },
    {
     "name": "stdout",
     "output_type": "stream",
     "text": [
      "AnnData object with n_obs × n_vars = 44699 × 550\n",
      "    obs: 'brain_section_label', 'cluster', 'domain', 'nico_ct', 'x', 'y', 'Ground Truth'\n",
      "    var: 'gene_symbol', 'transcript_identifier'\n",
      "    uns: 'accessed_on', 'src', 'log1p', 'Spatial_Net'\n",
      "    obsm: 'spatial', 'STAGATE'\n"
     ]
    }
   ],
   "source": [
    "#Running STAGATE with cell type-aware module\n",
    "#Parameter alpha is the weight of the cell type-aware spatial network, \n",
    "# and pre_resolution is the resolution parameter of pre-clustering.\n",
    "#adata = STAGATE.train_STAGATE(adata2, alpha=0,save_attention=True)\n",
    "#adata = STAGATE.train_STAGATE(adata, alpha=0.5, pre_resolution=0.2,        n_epochs=1000, save_attention=True)\n",
    "adata = STAGATE_pyG.train_STAGATE(adata, device = torch.device('cuda:0' if torch.cuda.is_available() else 'cpu'))\n",
    "\n",
    "\n",
    "print(adata)"
   ]
  },
  {
   "cell_type": "code",
   "execution_count": 6,
   "id": "3efcbe29-b722-42f7-a0e9-9a994d7d37d5",
   "metadata": {},
   "outputs": [],
   "source": [
    "adata.write_h5ad('stagate_intestine.h5ad')"
   ]
  },
  {
   "cell_type": "code",
   "execution_count": 10,
   "id": "5e0ab8b2-e86b-4355-8d0b-9e3ac401af69",
   "metadata": {},
   "outputs": [
    {
     "name": "stderr",
     "output_type": "stream",
     "text": [
      "OMP: Info #276: omp_set_nested routine deprecated, please use omp_set_max_active_levels instead.\n"
     ]
    }
   ],
   "source": [
    "sc.pp.neighbors(adata, use_rep='STAGATE')\n",
    "sc.tl.umap(adata)"
   ]
  },
  {
   "cell_type": "code",
   "execution_count": 8,
   "id": "743bdd09-36f3-49a0-a25b-10c051ad2943",
   "metadata": {},
   "outputs": [],
   "source": [
    "# pre-clustering result\n",
    "#plt.rcParams[\"figure.figsize\"] = (3, 3)\n",
    "#sc.pl.spatial(adata,  color=\"nico_ct\", size=1.5, title='pre-clustering result')\n"
   ]
  },
  {
   "cell_type": "code",
   "execution_count": 9,
   "id": "70d47042-7407-4603-8eb2-eda297f9e061",
   "metadata": {},
   "outputs": [
    {
     "ename": "KeyError",
     "evalue": "'No \"neighbors\" in .uns'",
     "output_type": "error",
     "traceback": [
      "\u001b[0;31m---------------------------------------------------------------------------\u001b[0m",
      "\u001b[0;31mKeyError\u001b[0m                                  Traceback (most recent call last)",
      "Cell \u001b[0;32mIn[9], line 1\u001b[0m\n\u001b[0;32m----> 1\u001b[0m \u001b[43msc\u001b[49m\u001b[38;5;241;43m.\u001b[39;49m\u001b[43mtl\u001b[49m\u001b[38;5;241;43m.\u001b[39;49m\u001b[43mlouvain\u001b[49m\u001b[43m(\u001b[49m\u001b[43madata\u001b[49m\u001b[43m,\u001b[49m\u001b[43mresolution\u001b[49m\u001b[38;5;241;43m=\u001b[39;49m\u001b[38;5;241;43m0.5\u001b[39;49m\u001b[43m,\u001b[49m\u001b[43mkey_added\u001b[49m\u001b[38;5;241;43m=\u001b[39;49m\u001b[38;5;124;43m\"\u001b[39;49m\u001b[38;5;124;43mlouvain0.5\u001b[39;49m\u001b[38;5;124;43m\"\u001b[39;49m\u001b[43m)\u001b[49m\n\u001b[1;32m      2\u001b[0m sc\u001b[38;5;241m.\u001b[39mtl\u001b[38;5;241m.\u001b[39mlouvain(adata,resolution\u001b[38;5;241m=\u001b[39m\u001b[38;5;241m0.8\u001b[39m,key_added\u001b[38;5;241m=\u001b[39m\u001b[38;5;124m\"\u001b[39m\u001b[38;5;124mlouvain0.8\u001b[39m\u001b[38;5;124m\"\u001b[39m)\n\u001b[1;32m      3\u001b[0m sc\u001b[38;5;241m.\u001b[39mtl\u001b[38;5;241m.\u001b[39mlouvain(adata,resolution\u001b[38;5;241m=\u001b[39m\u001b[38;5;241m1\u001b[39m,key_added\u001b[38;5;241m=\u001b[39m\u001b[38;5;124m\"\u001b[39m\u001b[38;5;124mlouvain1\u001b[39m\u001b[38;5;124m\"\u001b[39m)\n",
      "File \u001b[0;32m~/miniconda3/envs/ot/lib/python3.11/site-packages/legacy_api_wrap/__init__.py:80\u001b[0m, in \u001b[0;36mlegacy_api.<locals>.wrapper.<locals>.fn_compatible\u001b[0;34m(*args_all, **kw)\u001b[0m\n\u001b[1;32m     77\u001b[0m \u001b[38;5;129m@wraps\u001b[39m(fn)\n\u001b[1;32m     78\u001b[0m \u001b[38;5;28;01mdef\u001b[39;00m \u001b[38;5;21mfn_compatible\u001b[39m(\u001b[38;5;241m*\u001b[39margs_all: P\u001b[38;5;241m.\u001b[39margs, \u001b[38;5;241m*\u001b[39m\u001b[38;5;241m*\u001b[39mkw: P\u001b[38;5;241m.\u001b[39mkwargs) \u001b[38;5;241m-\u001b[39m\u001b[38;5;241m>\u001b[39m R:\n\u001b[1;32m     79\u001b[0m     \u001b[38;5;28;01mif\u001b[39;00m \u001b[38;5;28mlen\u001b[39m(args_all) \u001b[38;5;241m<\u001b[39m\u001b[38;5;241m=\u001b[39m n_positional:\n\u001b[0;32m---> 80\u001b[0m         \u001b[38;5;28;01mreturn\u001b[39;00m \u001b[43mfn\u001b[49m\u001b[43m(\u001b[49m\u001b[38;5;241;43m*\u001b[39;49m\u001b[43margs_all\u001b[49m\u001b[43m,\u001b[49m\u001b[43m \u001b[49m\u001b[38;5;241;43m*\u001b[39;49m\u001b[38;5;241;43m*\u001b[39;49m\u001b[43mkw\u001b[49m\u001b[43m)\u001b[49m\n\u001b[1;32m     82\u001b[0m     args_pos: P\u001b[38;5;241m.\u001b[39margs\n\u001b[1;32m     83\u001b[0m     args_pos, args_rest \u001b[38;5;241m=\u001b[39m args_all[:n_positional], args_all[n_positional:]\n",
      "File \u001b[0;32m~/miniconda3/envs/ot/lib/python3.11/site-packages/scanpy/tools/_louvain.py:148\u001b[0m, in \u001b[0;36mlouvain\u001b[0;34m(adata, resolution, random_state, restrict_to, key_added, adjacency, flavor, directed, use_weights, partition_type, partition_kwargs, neighbors_key, obsp, copy)\u001b[0m\n\u001b[1;32m    146\u001b[0m adata \u001b[38;5;241m=\u001b[39m adata\u001b[38;5;241m.\u001b[39mcopy() \u001b[38;5;28;01mif\u001b[39;00m copy \u001b[38;5;28;01melse\u001b[39;00m adata\n\u001b[1;32m    147\u001b[0m \u001b[38;5;28;01mif\u001b[39;00m adjacency \u001b[38;5;129;01mis\u001b[39;00m \u001b[38;5;28;01mNone\u001b[39;00m:\n\u001b[0;32m--> 148\u001b[0m     adjacency \u001b[38;5;241m=\u001b[39m \u001b[43m_choose_graph\u001b[49m\u001b[43m(\u001b[49m\u001b[43madata\u001b[49m\u001b[43m,\u001b[49m\u001b[43m \u001b[49m\u001b[43mobsp\u001b[49m\u001b[43m,\u001b[49m\u001b[43m \u001b[49m\u001b[43mneighbors_key\u001b[49m\u001b[43m)\u001b[49m\n\u001b[1;32m    149\u001b[0m \u001b[38;5;28;01mif\u001b[39;00m restrict_to \u001b[38;5;129;01mis\u001b[39;00m \u001b[38;5;129;01mnot\u001b[39;00m \u001b[38;5;28;01mNone\u001b[39;00m:\n\u001b[1;32m    150\u001b[0m     restrict_key, restrict_categories \u001b[38;5;241m=\u001b[39m restrict_to\n",
      "File \u001b[0;32m~/miniconda3/envs/ot/lib/python3.11/site-packages/scanpy/_utils/__init__.py:1067\u001b[0m, in \u001b[0;36m_choose_graph\u001b[0;34m(adata, obsp, neighbors_key)\u001b[0m\n\u001b[1;32m   1065\u001b[0m     \u001b[38;5;28;01mreturn\u001b[39;00m adata\u001b[38;5;241m.\u001b[39mobsp[obsp]\n\u001b[1;32m   1066\u001b[0m \u001b[38;5;28;01melse\u001b[39;00m:\n\u001b[0;32m-> 1067\u001b[0m     neighbors \u001b[38;5;241m=\u001b[39m \u001b[43mNeighborsView\u001b[49m\u001b[43m(\u001b[49m\u001b[43madata\u001b[49m\u001b[43m,\u001b[49m\u001b[43m \u001b[49m\u001b[43mneighbors_key\u001b[49m\u001b[43m)\u001b[49m\n\u001b[1;32m   1068\u001b[0m     \u001b[38;5;28;01mif\u001b[39;00m \u001b[38;5;124m\"\u001b[39m\u001b[38;5;124mconnectivities\u001b[39m\u001b[38;5;124m\"\u001b[39m \u001b[38;5;129;01mnot\u001b[39;00m \u001b[38;5;129;01min\u001b[39;00m neighbors:\n\u001b[1;32m   1069\u001b[0m         \u001b[38;5;28;01mraise\u001b[39;00m \u001b[38;5;167;01mValueError\u001b[39;00m(\n\u001b[1;32m   1070\u001b[0m             \u001b[38;5;124m\"\u001b[39m\u001b[38;5;124mYou need to run `pp.neighbors` first \u001b[39m\u001b[38;5;124m\"\u001b[39m\n\u001b[1;32m   1071\u001b[0m             \u001b[38;5;124m\"\u001b[39m\u001b[38;5;124mto compute a neighborhood graph.\u001b[39m\u001b[38;5;124m\"\u001b[39m\n\u001b[1;32m   1072\u001b[0m         )\n",
      "File \u001b[0;32m~/miniconda3/envs/ot/lib/python3.11/site-packages/scanpy/_utils/__init__.py:1011\u001b[0m, in \u001b[0;36mNeighborsView.__init__\u001b[0;34m(self, adata, key)\u001b[0m\n\u001b[1;32m   1009\u001b[0m \u001b[38;5;28;01mif\u001b[39;00m key \u001b[38;5;129;01mis\u001b[39;00m \u001b[38;5;28;01mNone\u001b[39;00m \u001b[38;5;129;01mor\u001b[39;00m key \u001b[38;5;241m==\u001b[39m \u001b[38;5;124m\"\u001b[39m\u001b[38;5;124mneighbors\u001b[39m\u001b[38;5;124m\"\u001b[39m:\n\u001b[1;32m   1010\u001b[0m     \u001b[38;5;28;01mif\u001b[39;00m \u001b[38;5;124m\"\u001b[39m\u001b[38;5;124mneighbors\u001b[39m\u001b[38;5;124m\"\u001b[39m \u001b[38;5;129;01mnot\u001b[39;00m \u001b[38;5;129;01min\u001b[39;00m adata\u001b[38;5;241m.\u001b[39muns:\n\u001b[0;32m-> 1011\u001b[0m         \u001b[38;5;28;01mraise\u001b[39;00m \u001b[38;5;167;01mKeyError\u001b[39;00m(\u001b[38;5;124m'\u001b[39m\u001b[38;5;124mNo \u001b[39m\u001b[38;5;124m\"\u001b[39m\u001b[38;5;124mneighbors\u001b[39m\u001b[38;5;124m\"\u001b[39m\u001b[38;5;124m in .uns\u001b[39m\u001b[38;5;124m'\u001b[39m)\n\u001b[1;32m   1012\u001b[0m     \u001b[38;5;28mself\u001b[39m\u001b[38;5;241m.\u001b[39m_neighbors_dict \u001b[38;5;241m=\u001b[39m adata\u001b[38;5;241m.\u001b[39muns[\u001b[38;5;124m\"\u001b[39m\u001b[38;5;124mneighbors\u001b[39m\u001b[38;5;124m\"\u001b[39m]\n\u001b[1;32m   1013\u001b[0m     \u001b[38;5;28mself\u001b[39m\u001b[38;5;241m.\u001b[39m_conns_key \u001b[38;5;241m=\u001b[39m \u001b[38;5;124m\"\u001b[39m\u001b[38;5;124mconnectivities\u001b[39m\u001b[38;5;124m\"\u001b[39m\n",
      "\u001b[0;31mKeyError\u001b[0m: 'No \"neighbors\" in .uns'"
     ]
    }
   ],
   "source": [
    "sc.tl.louvain(adata,resolution=0.5,key_added=\"louvain0.5\")\n",
    "sc.tl.louvain(adata,resolution=0.8,key_added=\"louvain0.8\")\n",
    "sc.tl.louvain(adata,resolution=1,key_added=\"louvain1\")\n",
    "sc.tl.louvain(adata,resolution=0.2,key_added=\"louvain0.2\")"
   ]
  },
  {
   "cell_type": "code",
   "execution_count": null,
   "id": "169334aa-053c-4aa1-ae0c-a87b488588ee",
   "metadata": {},
   "outputs": [],
   "source": []
  },
  {
   "cell_type": "code",
   "execution_count": null,
   "id": "43d4df56-7667-47e6-b687-a83bc4332182",
   "metadata": {},
   "outputs": [],
   "source": []
  },
  {
   "cell_type": "code",
   "execution_count": null,
   "id": "f0dc9e8a-d80a-4e23-9148-a5c0c854493f",
   "metadata": {},
   "outputs": [],
   "source": [
    "adata"
   ]
  },
  {
   "cell_type": "code",
   "execution_count": null,
   "id": "c5fdb331-dc3d-4205-a05b-2423a1bb4ed4",
   "metadata": {},
   "outputs": [],
   "source": [
    "adata.write_h5ad('stagate_intestine.h5ad')"
   ]
  },
  {
   "cell_type": "code",
   "execution_count": null,
   "id": "fe28c2fc-b102-43d3-8df9-f3b0940dea64",
   "metadata": {},
   "outputs": [],
   "source": [
    "\n",
    "end_time = time.time()  # End time\n",
    "memory_after = memory_usage()[0]  # Memory after execution\n",
    "execution_time = end_time - start_time  # Execution time\n",
    "memory_used = memory_after - memory_before  # Memory used\n",
    "print(\"execution_time, memory_used\")\n",
    "print(execution_time, memory_used)"
   ]
  },
  {
   "cell_type": "code",
   "execution_count": null,
   "id": "dad3bb0f-b0f9-4a55-a1b2-9946b767fdbe",
   "metadata": {},
   "outputs": [],
   "source": []
  },
  {
   "cell_type": "code",
   "execution_count": null,
   "id": "c8ec3887-6002-439f-ba86-590b0b306b37",
   "metadata": {},
   "outputs": [],
   "source": [
    "#Visualization of the attention layer\n",
    "import matplotlib as mpl\n",
    "import networkx as nx"
   ]
  },
  {
   "cell_type": "code",
   "execution_count": null,
   "id": "570f762e-e8a8-4c08-bae6-8dc8d7b2adac",
   "metadata": {},
   "outputs": [],
   "source": [
    "att_df = pd.DataFrame(adata.uns['STAGATE_attention'][0].toarray(), index=adata.obs_names, columns=adata.obs_names)\n",
    "att_df = att_df.values\n",
    "for it in range(att_df.shape[0]):\n",
    "    att_df[it, it] = 0"
   ]
  },
  {
   "cell_type": "code",
   "execution_count": null,
   "id": "7ac069a6-6669-4171-bbc2-6d76e10feea2",
   "metadata": {},
   "outputs": [],
   "source": [
    "G_atten = nx.from_numpy_matrix(att_df)\n",
    "M = G_atten.number_of_edges()\n",
    "edge_colors = range(2, M + 2)"
   ]
  },
  {
   "cell_type": "code",
   "execution_count": null,
   "id": "c8c15d9c-4dc7-4432-be6e-5049ff3804b8",
   "metadata": {},
   "outputs": [],
   "source": [
    "coor_df = pd.DataFrame(adata.obsm['spatial'].copy(), index=adata.obs_names)\n",
    "coor_df[1] = -1 * coor_df[1]\n",
    "image_pos = dict(zip(range(coor_df.shape[0]), [np.array(coor_df.iloc[it,]) for it in range(coor_df.shape[0])]))\n"
   ]
  },
  {
   "cell_type": "code",
   "execution_count": null,
   "id": "9e453f99-1115-46cb-92ba-66936f5ac139",
   "metadata": {},
   "outputs": [],
   "source": [
    "labels = nx.get_edge_attributes(G_atten,'weight')\n",
    "\n",
    "fig, ax = plt.subplots(figsize=[9,10])\n",
    "nx.draw_networkx_nodes(G_atten, image_pos, node_size=5, ax=ax)\n",
    "cmap = plt.cm.plasma\n",
    "edges = nx.draw_networkx_edges(G_atten, image_pos, edge_color=labels.values(),width=4, ax=ax,\n",
    "                               edge_cmap=cmap,edge_vmax=0.25,edge_vmin=0.05)\n",
    "ax = plt.gca()\n",
    "sm = plt.cm.ScalarMappable(cmap=cmap, norm=plt.Normalize(vmin = 0.05, vmax=0.25))\n",
    "sm._A = []\n",
    "plt.colorbar(sm)\n",
    "ax.set_axis_off()"
   ]
  },
  {
   "cell_type": "code",
   "execution_count": null,
   "id": "375cca0f-e5a2-4569-b479-1b130e9d35cb",
   "metadata": {},
   "outputs": [],
   "source": []
  }
 ],
 "metadata": {
  "kernelspec": {
   "display_name": "Python 3 (ipykernel)",
   "language": "python",
   "name": "python3"
  },
  "language_info": {
   "codemirror_mode": {
    "name": "ipython",
    "version": 3
   },
   "file_extension": ".py",
   "mimetype": "text/x-python",
   "name": "python",
   "nbconvert_exporter": "python",
   "pygments_lexer": "ipython3",
   "version": "3.11.5"
  }
 },
 "nbformat": 4,
 "nbformat_minor": 5
}
