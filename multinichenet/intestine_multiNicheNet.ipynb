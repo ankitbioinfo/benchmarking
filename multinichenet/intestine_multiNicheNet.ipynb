{
 "cells": [
  {
   "cell_type": "code",
   "execution_count": 1,
   "id": "c67793a1-4127-4735-bc32-b693604ce152",
   "metadata": {},
   "outputs": [
    {
     "name": "stderr",
     "output_type": "stream",
     "text": [
      "Loading required package: SummarizedExperiment\n",
      "\n",
      "Loading required package: MatrixGenerics\n",
      "\n",
      "Loading required package: matrixStats\n",
      "\n",
      "\n",
      "Attaching package: ‘MatrixGenerics’\n",
      "\n",
      "\n",
      "The following objects are masked from ‘package:matrixStats’:\n",
      "\n",
      "    colAlls, colAnyNAs, colAnys, colAvgsPerRowSet, colCollapse,\n",
      "    colCounts, colCummaxs, colCummins, colCumprods, colCumsums,\n",
      "    colDiffs, colIQRDiffs, colIQRs, colLogSumExps, colMadDiffs,\n",
      "    colMads, colMaxs, colMeans2, colMedians, colMins, colOrderStats,\n",
      "    colProds, colQuantiles, colRanges, colRanks, colSdDiffs, colSds,\n",
      "    colSums2, colTabulates, colVarDiffs, colVars, colWeightedMads,\n",
      "    colWeightedMeans, colWeightedMedians, colWeightedSds,\n",
      "    colWeightedVars, rowAlls, rowAnyNAs, rowAnys, rowAvgsPerColSet,\n",
      "    rowCollapse, rowCounts, rowCummaxs, rowCummins, rowCumprods,\n",
      "    rowCumsums, rowDiffs, rowIQRDiffs, rowIQRs, rowLogSumExps,\n",
      "    rowMadDiffs, rowMads, rowMaxs, rowMeans2, rowMedians, rowMins,\n",
      "    rowOrderStats, rowProds, rowQuantiles, rowRanges, rowRanks,\n",
      "    rowSdDiffs, rowSds, rowSums2, rowTabulates, rowVarDiffs, rowVars,\n",
      "    rowWeightedMads, rowWeightedMeans, rowWeightedMedians,\n",
      "    rowWeightedSds, rowWeightedVars\n",
      "\n",
      "\n",
      "Loading required package: GenomicRanges\n",
      "\n",
      "Loading required package: stats4\n",
      "\n",
      "Loading required package: BiocGenerics\n",
      "\n",
      "\n",
      "Attaching package: ‘BiocGenerics’\n",
      "\n",
      "\n",
      "The following objects are masked from ‘package:stats’:\n",
      "\n",
      "    IQR, mad, sd, var, xtabs\n",
      "\n",
      "\n",
      "The following objects are masked from ‘package:base’:\n",
      "\n",
      "    anyDuplicated, aperm, append, as.data.frame, basename, cbind,\n",
      "    colnames, dirname, do.call, duplicated, eval, evalq, Filter, Find,\n",
      "    get, grep, grepl, intersect, is.unsorted, lapply, Map, mapply,\n",
      "    match, mget, order, paste, pmax, pmax.int, pmin, pmin.int,\n",
      "    Position, rank, rbind, Reduce, rownames, sapply, setdiff, sort,\n",
      "    table, tapply, union, unique, unsplit, which.max, which.min\n",
      "\n",
      "\n",
      "Loading required package: S4Vectors\n",
      "\n",
      "\n",
      "Attaching package: ‘S4Vectors’\n",
      "\n",
      "\n",
      "The following object is masked from ‘package:utils’:\n",
      "\n",
      "    findMatches\n",
      "\n",
      "\n",
      "The following objects are masked from ‘package:base’:\n",
      "\n",
      "    expand.grid, I, unname\n",
      "\n",
      "\n",
      "Loading required package: IRanges\n",
      "\n",
      "Loading required package: GenomeInfoDb\n",
      "\n",
      "Loading required package: Biobase\n",
      "\n",
      "Welcome to Bioconductor\n",
      "\n",
      "    Vignettes contain introductory material; view with\n",
      "    'browseVignettes()'. To cite Bioconductor, see\n",
      "    'citation(\"Biobase\")', and for packages 'citation(\"pkgname\")'.\n",
      "\n",
      "\n",
      "\n",
      "Attaching package: ‘Biobase’\n",
      "\n",
      "\n",
      "The following object is masked from ‘package:MatrixGenerics’:\n",
      "\n",
      "    rowMedians\n",
      "\n",
      "\n",
      "The following objects are masked from ‘package:matrixStats’:\n",
      "\n",
      "    anyMissing, rowMedians\n",
      "\n",
      "\n",
      "\n",
      "Attaching package: ‘dplyr’\n",
      "\n",
      "\n",
      "The following object is masked from ‘package:Biobase’:\n",
      "\n",
      "    combine\n",
      "\n",
      "\n",
      "The following objects are masked from ‘package:GenomicRanges’:\n",
      "\n",
      "    intersect, setdiff, union\n",
      "\n",
      "\n",
      "The following object is masked from ‘package:GenomeInfoDb’:\n",
      "\n",
      "    intersect\n",
      "\n",
      "\n",
      "The following objects are masked from ‘package:IRanges’:\n",
      "\n",
      "    collapse, desc, intersect, setdiff, slice, union\n",
      "\n",
      "\n",
      "The following objects are masked from ‘package:S4Vectors’:\n",
      "\n",
      "    first, intersect, rename, setdiff, setequal, union\n",
      "\n",
      "\n",
      "The following objects are masked from ‘package:BiocGenerics’:\n",
      "\n",
      "    combine, intersect, setdiff, union\n",
      "\n",
      "\n",
      "The following object is masked from ‘package:matrixStats’:\n",
      "\n",
      "    count\n",
      "\n",
      "\n",
      "The following objects are masked from ‘package:stats’:\n",
      "\n",
      "    filter, lag\n",
      "\n",
      "\n",
      "The following objects are masked from ‘package:base’:\n",
      "\n",
      "    intersect, setdiff, setequal, union\n",
      "\n",
      "\n",
      "Registered S3 method overwritten by 'EnvStats':\n",
      "  method         from\n",
      "  print.estimate lava\n",
      "\n",
      "\n",
      "Attaching package: ‘multinichenetr’\n",
      "\n",
      "\n",
      "The following objects are masked from ‘package:nichenetr’:\n",
      "\n",
      "    combine_sender_receiver_de, generate_prioritization_tables\n",
      "\n",
      "\n",
      "Loading required package: SeuratObject\n",
      "\n",
      "Loading required package: sp\n",
      "\n",
      "\n",
      "Attaching package: ‘sp’\n",
      "\n",
      "\n",
      "The following object is masked from ‘package:IRanges’:\n",
      "\n",
      "    %over%\n",
      "\n",
      "\n",
      "\n",
      "Attaching package: ‘SeuratObject’\n",
      "\n",
      "\n",
      "The following object is masked from ‘package:SummarizedExperiment’:\n",
      "\n",
      "    Assays\n",
      "\n",
      "\n",
      "The following object is masked from ‘package:GenomicRanges’:\n",
      "\n",
      "    intersect\n",
      "\n",
      "\n",
      "The following object is masked from ‘package:GenomeInfoDb’:\n",
      "\n",
      "    intersect\n",
      "\n",
      "\n",
      "The following object is masked from ‘package:IRanges’:\n",
      "\n",
      "    intersect\n",
      "\n",
      "\n",
      "The following object is masked from ‘package:S4Vectors’:\n",
      "\n",
      "    intersect\n",
      "\n",
      "\n",
      "The following object is masked from ‘package:BiocGenerics’:\n",
      "\n",
      "    intersect\n",
      "\n",
      "\n",
      "The following objects are masked from ‘package:base’:\n",
      "\n",
      "    intersect, t\n",
      "\n",
      "\n",
      "\n",
      "Attaching package: ‘Seurat’\n",
      "\n",
      "\n",
      "The following object is masked from ‘package:SummarizedExperiment’:\n",
      "\n",
      "    Assays\n",
      "\n",
      "\n"
     ]
    }
   ],
   "source": [
    "library(SingleCellExperiment)\n",
    "library(dplyr)\n",
    "library(ggplot2)\n",
    "library(nichenetr)\n",
    "library(multinichenetr)\n",
    "library(Seurat)"
   ]
  },
  {
   "cell_type": "code",
   "execution_count": 2,
   "id": "d899520e-84a7-4624-a36a-69d22863f3dd",
   "metadata": {},
   "outputs": [],
   "source": [
    "organism = \"human\""
   ]
  },
  {
   "cell_type": "code",
   "execution_count": 3,
   "id": "037fc418-650d-4fd9-8eb9-7e300734c891",
   "metadata": {},
   "outputs": [
    {
     "name": "stdout",
     "output_type": "stream",
     "text": [
      "[1] \"following are the official gene symbols of input aliases: \"\n",
      "  symbol alias\n",
      "1  YARS1  YARS\n",
      "[1] \"all input symbols were official symbols\"\n",
      "[1] \"all input symbols were official symbols\"\n",
      "[1] \"all input symbols were official symbols\"\n"
     ]
    }
   ],
   "source": [
    "options(timeout = 120)\n",
    "\n",
    "if(organism == \"human\"){\n",
    "  \n",
    "  lr_network_all = \n",
    "    readRDS(url(\n",
    "      \"https://zenodo.org/record/10229222/files/lr_network_human_allInfo_30112033.rds\"\n",
    "      )) %>% \n",
    "    mutate(\n",
    "      ligand = convert_alias_to_symbols(ligand, organism = organism), \n",
    "      receptor = convert_alias_to_symbols(receptor, organism = organism))\n",
    "  \n",
    "  lr_network_all = lr_network_all  %>% \n",
    "    mutate(ligand = make.names(ligand), receptor = make.names(receptor)) \n",
    "  \n",
    "  lr_network = lr_network_all %>% \n",
    "    distinct(ligand, receptor)\n",
    "  \n",
    "  ligand_target_matrix = readRDS(url(\n",
    "    \"https://zenodo.org/record/7074291/files/ligand_target_matrix_nsga2r_final.rds\"\n",
    "    ))\n",
    "  \n",
    "  colnames(ligand_target_matrix) = colnames(ligand_target_matrix) %>% \n",
    "    convert_alias_to_symbols(organism = organism) %>% make.names()\n",
    "  rownames(ligand_target_matrix) = rownames(ligand_target_matrix) %>% \n",
    "    convert_alias_to_symbols(organism = organism) %>% make.names()\n",
    "  \n",
    "  lr_network = lr_network %>% filter(ligand %in% colnames(ligand_target_matrix))\n",
    "  ligand_target_matrix = ligand_target_matrix[, lr_network$ligand %>% unique()]\n",
    "  \n",
    "} else if(organism == \"mouse\"){\n",
    "  \n",
    "  lr_network_all = readRDS(url(\n",
    "    \"https://zenodo.org/record/10229222/files/lr_network_mouse_allInfo_30112033.rds\"\n",
    "    )) %>% \n",
    "    mutate(\n",
    "      ligand = convert_alias_to_symbols(ligand, organism = organism), \n",
    "      receptor = convert_alias_to_symbols(receptor, organism = organism))\n",
    "  \n",
    "  lr_network_all = lr_network_all  %>% \n",
    "    mutate(ligand = make.names(ligand), receptor = make.names(receptor)) \n",
    "  lr_network = lr_network_all %>% \n",
    "    distinct(ligand, receptor)\n",
    "  \n",
    "  ligand_target_matrix = readRDS(url(\n",
    "    \"https://zenodo.org/record/7074291/files/ligand_target_matrix_nsga2r_final_mouse.rds\"\n",
    "    ))\n",
    "  \n",
    "  colnames(ligand_target_matrix) = colnames(ligand_target_matrix) %>% \n",
    "    convert_alias_to_symbols(organism = organism) %>% make.names()\n",
    "  rownames(ligand_target_matrix) = rownames(ligand_target_matrix) %>% \n",
    "    convert_alias_to_symbols(organism = organism) %>% make.names()\n",
    "  \n",
    "  lr_network = lr_network %>% filter(ligand %in% colnames(ligand_target_matrix))\n",
    "  ligand_target_matrix = ligand_target_matrix[, lr_network$ligand %>% unique()]\n",
    "  \n",
    "}"
   ]
  },
  {
   "cell_type": "code",
   "execution_count": null,
   "id": "ca00f470-ec96-4e04-9cdd-a3403cd5f1f9",
   "metadata": {},
   "outputs": [],
   "source": []
  },
  {
   "cell_type": "code",
   "execution_count": null,
   "id": "e0fb2462-6044-4e2d-aeb0-9b19f3312d7d",
   "metadata": {},
   "outputs": [],
   "source": []
  },
  {
   "cell_type": "code",
   "execution_count": 4,
   "id": "a7c351db-a49a-4828-9467-46b531a75b07",
   "metadata": {},
   "outputs": [],
   "source": [
    "cd <- read.csv('./intestine_data/intestine_for_nicheDE/counts.csv', row.names=1)\n",
    "annot <- read.csv('./intestine_data/intestine_for_nicheDE/meta.csv',row.names=1)\n",
    "pos <- annot[, c('x','y')]\n",
    "\n",
    "raw_matrix = t(cd)"
   ]
  },
  {
   "cell_type": "code",
   "execution_count": 5,
   "id": "8ef0b20b-9624-49a7-84e4-e649d39eb94e",
   "metadata": {},
   "outputs": [
    {
     "name": "stderr",
     "output_type": "stream",
     "text": [
      "Warning message:\n",
      "“Data is of class matrix. Coercing to dgCMatrix.”\n",
      "Warning message:\n",
      "“Adding image data that isn't associated with any assays”\n"
     ]
    }
   ],
   "source": [
    "vizgen.obj <- CreateSeuratObject(count=raw_matrix,assay=\"RNA\")\n",
    "cents <- CreateCentroids(pos)\n",
    "\n",
    "segmentations.data <- list(\n",
    "    \"centroids\"=cents,\n",
    "    \"segmentation\"=NULL)\n",
    "\n",
    "coords <- CreateFOV(\n",
    "    coords =CreateCentroids(pos),\n",
    "    molecule=NULL,\n",
    "    assay=\"Vizgen\")\n",
    "\n",
    "vizgen.obj[[\"fov\"]] <-coords \n",
    "\n",
    "annotations <- annot[,c(\"annot\")]\n",
    "vizgen.obj$predicted.celltype<- annotations\n",
    "vizgen.obj$x <- annot[,c(\"x\")] \n",
    "vizgen.obj$y <- annot[,c(\"y\")] \n",
    "vizgen.obj$sample <- annot[,c(\"sample\")] "
   ]
  },
  {
   "cell_type": "code",
   "execution_count": 6,
   "id": "6656d701-1e48-4c55-a40a-6bab2260d28c",
   "metadata": {},
   "outputs": [
    {
     "data": {
      "text/plain": [
       "An object of class Seurat \n",
       "241 features across 7367 samples within 1 assay \n",
       "Active assay: RNA (241 features, 0 variable features)\n",
       " 1 layer present: counts\n",
       " 1 spatial field of view present: fov"
      ]
     },
     "metadata": {},
     "output_type": "display_data"
    }
   ],
   "source": [
    "vizgen.obj"
   ]
  },
  {
   "cell_type": "code",
   "execution_count": 7,
   "id": "42cdda76-ef4d-4587-967a-fdaaedb6d6cb",
   "metadata": {},
   "outputs": [
    {
     "data": {
      "text/html": [
       "<style>\n",
       ".list-inline {list-style: none; margin:0; padding: 0}\n",
       ".list-inline>li {display: inline-block}\n",
       ".list-inline>li:not(:last-child)::after {content: \"\\00b7\"; padding: 0 .5ex}\n",
       "</style>\n",
       "<ol class=list-inline><li>241</li><li>7367</li></ol>\n"
      ],
      "text/latex": [
       "\\begin{enumerate*}\n",
       "\\item 241\n",
       "\\item 7367\n",
       "\\end{enumerate*}\n"
      ],
      "text/markdown": [
       "1. 241\n",
       "2. 7367\n",
       "\n",
       "\n"
      ],
      "text/plain": [
       "[1]  241 7367"
      ]
     },
     "metadata": {},
     "output_type": "display_data"
    }
   ],
   "source": [
    "dim(vizgen.obj)"
   ]
  },
  {
   "cell_type": "code",
   "execution_count": null,
   "id": "1ed85f7c-c5e6-4c44-93bf-e10930ff1704",
   "metadata": {},
   "outputs": [],
   "source": []
  },
  {
   "cell_type": "code",
   "execution_count": 8,
   "id": "3f992198-1323-4272-b974-ad0d0731bafa",
   "metadata": {},
   "outputs": [],
   "source": [
    "# working \n",
    "#vizgen.obj <- NormalizeData(vizgen.obj, normalization.method = \"LogNormalize\", scale.factor=10000)"
   ]
  },
  {
   "cell_type": "code",
   "execution_count": null,
   "id": "a5aa9ccf-6589-42ec-8219-9bb584ef506f",
   "metadata": {},
   "outputs": [],
   "source": []
  },
  {
   "cell_type": "code",
   "execution_count": null,
   "id": "443c4001-6ca1-41f1-8a50-052964c45b44",
   "metadata": {},
   "outputs": [],
   "source": []
  },
  {
   "cell_type": "code",
   "execution_count": 9,
   "id": "31fffd29-c29c-4c28-b9cb-67c9545705fe",
   "metadata": {},
   "outputs": [
    {
     "name": "stderr",
     "output_type": "stream",
     "text": [
      "Warning message:\n",
      "“Layer ‘data’ is empty”\n",
      "Warning message:\n",
      "“Layer ‘scale.data’ is empty”\n"
     ]
    },
    {
     "data": {
      "text/plain": [
       "DataFrame with 7367 rows and 8 columns\n",
       "            orig.ident nCount_RNA nFeature_RNA predicted.celltype         x\n",
       "              <factor>  <numeric>    <integer>        <character> <numeric>\n",
       "cell1    SeuratProject         42           16             Stroma   2070.40\n",
       "cell2    SeuratProject         69           18          Lymphatic   2071.30\n",
       "cell3    SeuratProject         70           12          Lymphatic   2091.34\n",
       "cell4    SeuratProject        156           21             Stroma   2150.84\n",
       "cell5    SeuratProject        111           11          Lymphatic   2238.18\n",
       "...                ...        ...          ...                ...       ...\n",
       "cell8165 SeuratProject         12           12             Stroma   4093.67\n",
       "cell8166 SeuratProject         14           11          Lymphatic   4386.79\n",
       "cell8167 SeuratProject         12           10          Lymphatic   3804.25\n",
       "cell8176 SeuratProject         12            9                BZE   3237.67\n",
       "cell8198 SeuratProject         21           12            Stem/TA   3259.71\n",
       "                 y      sample         ident\n",
       "         <numeric> <character>      <factor>\n",
       "cell1      19.0238          g2 SeuratProject\n",
       "cell2      87.0725          g1 SeuratProject\n",
       "cell3      61.8000          g2 SeuratProject\n",
       "cell4      40.9167          g1 SeuratProject\n",
       "cell5      29.8919          g2 SeuratProject\n",
       "...            ...         ...           ...\n",
       "cell8165   3978.75          g1 SeuratProject\n",
       "cell8166   4090.43          g1 SeuratProject\n",
       "cell8167   4904.67          g1 SeuratProject\n",
       "cell8176   8134.42          g1 SeuratProject\n",
       "cell8198   1311.57          g1 SeuratProject"
      ]
     },
     "metadata": {},
     "output_type": "display_data"
    }
   ],
   "source": [
    "sce = Seurat::as.SingleCellExperiment(vizgen.obj,assay=\"RNA\")\n",
    "colData(sce)"
   ]
  },
  {
   "cell_type": "code",
   "execution_count": 10,
   "id": "c058b67c-64f4-4508-8a24-370fbc008bda",
   "metadata": {},
   "outputs": [],
   "source": [
    "#metadata_df <-vizgen.obj@meta.data\n",
    "#colData(sce) <- cbind(colData(sce),metadata_df)\n",
    "sce <- scuttle::logNormCounts(sce)"
   ]
  },
  {
   "cell_type": "code",
   "execution_count": null,
   "id": "a509f898-c3ff-4ca2-80ed-a4a808b48e77",
   "metadata": {},
   "outputs": [],
   "source": []
  },
  {
   "cell_type": "code",
   "execution_count": null,
   "id": "2312d01e-5ee3-4118-87b1-ba3763ef6d72",
   "metadata": {},
   "outputs": [],
   "source": []
  },
  {
   "cell_type": "code",
   "execution_count": 11,
   "id": "e419f497-ae0f-433b-94a6-687e9020e4c1",
   "metadata": {},
   "outputs": [],
   "source": [
    "#coldata <- DataFrame(pos)\n",
    "#colData(sce) <- coldata "
   ]
  },
  {
   "cell_type": "code",
   "execution_count": 12,
   "id": "707e4a34-533b-4eec-bb7d-dad519af2d09",
   "metadata": {},
   "outputs": [
    {
     "data": {
      "text/plain": [
       "class: SingleCellExperiment \n",
       "dim: 241 7367 \n",
       "metadata(0):\n",
       "assays(2): counts logcounts\n",
       "rownames(241): Acsl1 Acta2 ... Vcan Vim\n",
       "rowData names(0):\n",
       "colnames(7367): cell1 cell2 ... cell8176 cell8198\n",
       "colData names(9): orig.ident nCount_RNA ... ident sizeFactor\n",
       "reducedDimNames(0):\n",
       "mainExpName: RNA\n",
       "altExpNames(0):"
      ]
     },
     "metadata": {},
     "output_type": "display_data"
    }
   ],
   "source": [
    "sce"
   ]
  },
  {
   "cell_type": "code",
   "execution_count": null,
   "id": "6b646d0a-4a92-4952-8499-78ab86007364",
   "metadata": {},
   "outputs": [],
   "source": []
  },
  {
   "cell_type": "code",
   "execution_count": 13,
   "id": "330f0516-9be2-41d0-8ec4-a6f52249f2e4",
   "metadata": {},
   "outputs": [],
   "source": [
    "col_data <- colData(sce)\n",
    "col_data$predicted.celltype <-make.names(col_data$predicted.celltype,unique=FALSE)\n",
    "colData(sce) <- col_data"
   ]
  },
  {
   "cell_type": "code",
   "execution_count": 15,
   "id": "85b7dd75-62a8-4a9e-b64a-8997ac6a3859",
   "metadata": {},
   "outputs": [],
   "source": [
    "#col_data$predicted.celltype"
   ]
  },
  {
   "cell_type": "code",
   "execution_count": 16,
   "id": "e62d80b7-f17b-4fde-a01e-66daaad5bbc7",
   "metadata": {},
   "outputs": [],
   "source": [
    "sample_id = \"predicted.celltype\"\n",
    "group_id = \"sample\"\n",
    "celltype_id = \"predicted.celltype\""
   ]
  },
  {
   "cell_type": "code",
   "execution_count": 17,
   "id": "fd43755c-4af4-4df7-9e95-d4e23a59101b",
   "metadata": {},
   "outputs": [],
   "source": [
    "covariates = NA\n",
    "batches = NA"
   ]
  },
  {
   "cell_type": "code",
   "execution_count": null,
   "id": "98afde42-d218-4b53-aa52-5f27a96349d7",
   "metadata": {},
   "outputs": [],
   "source": [
    "#sce@colData\n",
    "#disease 'idiopath.pulmonary.fibrosis                     normal \n",
    "#anotation     alveolar.ep        cd16    fribr  proliferat macro"
   ]
  },
  {
   "cell_type": "code",
   "execution_count": 18,
   "id": "b61a1f19-3a72-4d68-826a-458024ef63d2",
   "metadata": {},
   "outputs": [],
   "source": [
    "contrasts_oi = c(\"'g1-g2','g2-g1'\")\n",
    "contrast_tbl = tibble(contrast = c(\"g1-g2\",\"g2-g1\"),group = c(\"g1\",\"g2\"))"
   ]
  },
  {
   "cell_type": "code",
   "execution_count": null,
   "id": "4abd973a-329c-4252-a074-0cceddd5de67",
   "metadata": {},
   "outputs": [],
   "source": []
  },
  {
   "cell_type": "code",
   "execution_count": null,
   "id": "89787602-1d2e-4433-a913-88eb1071f266",
   "metadata": {},
   "outputs": [],
   "source": [
    "#SummarizedExperiment::colData(sce)"
   ]
  },
  {
   "cell_type": "code",
   "execution_count": null,
   "id": "5f93977c-2a70-475b-873b-81747ffdf305",
   "metadata": {},
   "outputs": [],
   "source": []
  },
  {
   "cell_type": "code",
   "execution_count": 19,
   "id": "fe1b7e8b-2dd8-4c20-b98b-28318ecb79bb",
   "metadata": {},
   "outputs": [
    {
     "data": {
      "text/html": [
       "<style>\n",
       ".list-inline {list-style: none; margin:0; padding: 0}\n",
       ".list-inline>li {display: inline-block}\n",
       ".list-inline>li:not(:last-child)::after {content: \"\\00b7\"; padding: 0 .5ex}\n",
       "</style>\n",
       "<ol class=list-inline><li>'orig.ident'</li><li>'nCount_RNA'</li><li>'nFeature_RNA'</li><li>'predicted.celltype'</li><li>'x'</li><li>'y'</li><li>'sample'</li><li>'ident'</li><li>'sizeFactor'</li></ol>\n"
      ],
      "text/latex": [
       "\\begin{enumerate*}\n",
       "\\item 'orig.ident'\n",
       "\\item 'nCount\\_RNA'\n",
       "\\item 'nFeature\\_RNA'\n",
       "\\item 'predicted.celltype'\n",
       "\\item 'x'\n",
       "\\item 'y'\n",
       "\\item 'sample'\n",
       "\\item 'ident'\n",
       "\\item 'sizeFactor'\n",
       "\\end{enumerate*}\n"
      ],
      "text/markdown": [
       "1. 'orig.ident'\n",
       "2. 'nCount_RNA'\n",
       "3. 'nFeature_RNA'\n",
       "4. 'predicted.celltype'\n",
       "5. 'x'\n",
       "6. 'y'\n",
       "7. 'sample'\n",
       "8. 'ident'\n",
       "9. 'sizeFactor'\n",
       "\n",
       "\n"
      ],
      "text/plain": [
       "[1] \"orig.ident\"         \"nCount_RNA\"         \"nFeature_RNA\"      \n",
       "[4] \"predicted.celltype\" \"x\"                  \"y\"                 \n",
       "[7] \"sample\"             \"ident\"              \"sizeFactor\"        "
      ]
     },
     "metadata": {},
     "output_type": "display_data"
    }
   ],
   "source": [
    "names(SummarizedExperiment::colData(sce))"
   ]
  },
  {
   "cell_type": "code",
   "execution_count": null,
   "id": "fa2f865f-da3e-4e11-be64-8b61bf8278cc",
   "metadata": {},
   "outputs": [],
   "source": [
    "#my_data %>% select(Sepal.Length, Petal.Length)"
   ]
  },
  {
   "cell_type": "code",
   "execution_count": null,
   "id": "1c06f05f-47c6-41ca-a4d6-598e14bf4984",
   "metadata": {},
   "outputs": [],
   "source": []
  },
  {
   "cell_type": "code",
   "execution_count": null,
   "id": "e22f557a-3b3c-43f8-ba48-bfc06040f4a3",
   "metadata": {},
   "outputs": [],
   "source": [
    "#col_data <-SummarizedExperiment::colData(sce) \n",
    "#col_data[['orig.ident']]"
   ]
  },
  {
   "cell_type": "code",
   "execution_count": null,
   "id": "9a75dfe4-aaa0-400b-bfe3-a8cfd10d7a6e",
   "metadata": {},
   "outputs": [],
   "source": []
  },
  {
   "cell_type": "code",
   "execution_count": null,
   "id": "8d1c4c2f-f157-45fb-abbe-74932082f0e1",
   "metadata": {},
   "outputs": [],
   "source": []
  },
  {
   "cell_type": "code",
   "execution_count": 20,
   "id": "934a1c4a-2a9b-4ad2-8ce6-4315b6e8c34f",
   "metadata": {},
   "outputs": [],
   "source": [
    "senders_oi = SummarizedExperiment::colData(sce)[,celltype_id] %>% unique()\n",
    "receivers_oi = SummarizedExperiment::colData(sce)[,celltype_id] %>% unique()\n",
    "sce = sce[, SummarizedExperiment::colData(sce)[,celltype_id] %in% \n",
    "            c(senders_oi, receivers_oi)\n",
    "          ]"
   ]
  },
  {
   "cell_type": "code",
   "execution_count": 21,
   "id": "e3d3e085-e415-4cb6-af88-e7bd0e3f7aee",
   "metadata": {},
   "outputs": [
    {
     "data": {
      "text/html": [
       "<style>\n",
       ".list-inline {list-style: none; margin:0; padding: 0}\n",
       ".list-inline>li {display: inline-block}\n",
       ".list-inline>li:not(:last-child)::after {content: \"\\00b7\"; padding: 0 .5ex}\n",
       "</style>\n",
       "<ol class=list-inline><li>'Stroma'</li><li>'Lymphatic'</li><li>'Glial'</li><li>'Rest.B'</li><li>'Blood.vasc.'</li><li>'Paneth'</li><li>'Stem.TA'</li><li>'neurons.enteroendocrine'</li><li>'T.cell'</li><li>'Macrophage'</li><li>'Plasma'</li><li>'BZE'</li><li>'Goblet'</li><li>'Tuft'</li><li>'cDC.monocyte'</li><li>'MZE'</li><li>'TZE'</li></ol>\n"
      ],
      "text/latex": [
       "\\begin{enumerate*}\n",
       "\\item 'Stroma'\n",
       "\\item 'Lymphatic'\n",
       "\\item 'Glial'\n",
       "\\item 'Rest.B'\n",
       "\\item 'Blood.vasc.'\n",
       "\\item 'Paneth'\n",
       "\\item 'Stem.TA'\n",
       "\\item 'neurons.enteroendocrine'\n",
       "\\item 'T.cell'\n",
       "\\item 'Macrophage'\n",
       "\\item 'Plasma'\n",
       "\\item 'BZE'\n",
       "\\item 'Goblet'\n",
       "\\item 'Tuft'\n",
       "\\item 'cDC.monocyte'\n",
       "\\item 'MZE'\n",
       "\\item 'TZE'\n",
       "\\end{enumerate*}\n"
      ],
      "text/markdown": [
       "1. 'Stroma'\n",
       "2. 'Lymphatic'\n",
       "3. 'Glial'\n",
       "4. 'Rest.B'\n",
       "5. 'Blood.vasc.'\n",
       "6. 'Paneth'\n",
       "7. 'Stem.TA'\n",
       "8. 'neurons.enteroendocrine'\n",
       "9. 'T.cell'\n",
       "10. 'Macrophage'\n",
       "11. 'Plasma'\n",
       "12. 'BZE'\n",
       "13. 'Goblet'\n",
       "14. 'Tuft'\n",
       "15. 'cDC.monocyte'\n",
       "16. 'MZE'\n",
       "17. 'TZE'\n",
       "\n",
       "\n"
      ],
      "text/plain": [
       " [1] \"Stroma\"                  \"Lymphatic\"              \n",
       " [3] \"Glial\"                   \"Rest.B\"                 \n",
       " [5] \"Blood.vasc.\"             \"Paneth\"                 \n",
       " [7] \"Stem.TA\"                 \"neurons.enteroendocrine\"\n",
       " [9] \"T.cell\"                  \"Macrophage\"             \n",
       "[11] \"Plasma\"                  \"BZE\"                    \n",
       "[13] \"Goblet\"                  \"Tuft\"                   \n",
       "[15] \"cDC.monocyte\"            \"MZE\"                    \n",
       "[17] \"TZE\"                    "
      ]
     },
     "metadata": {},
     "output_type": "display_data"
    },
    {
     "data": {
      "text/html": [
       "<style>\n",
       ".list-inline {list-style: none; margin:0; padding: 0}\n",
       ".list-inline>li {display: inline-block}\n",
       ".list-inline>li:not(:last-child)::after {content: \"\\00b7\"; padding: 0 .5ex}\n",
       "</style>\n",
       "<ol class=list-inline><li>'Stroma'</li><li>'Lymphatic'</li><li>'Glial'</li><li>'Rest.B'</li><li>'Blood.vasc.'</li><li>'Paneth'</li><li>'Stem.TA'</li><li>'neurons.enteroendocrine'</li><li>'T.cell'</li><li>'Macrophage'</li><li>'Plasma'</li><li>'BZE'</li><li>'Goblet'</li><li>'Tuft'</li><li>'cDC.monocyte'</li><li>'MZE'</li><li>'TZE'</li></ol>\n"
      ],
      "text/latex": [
       "\\begin{enumerate*}\n",
       "\\item 'Stroma'\n",
       "\\item 'Lymphatic'\n",
       "\\item 'Glial'\n",
       "\\item 'Rest.B'\n",
       "\\item 'Blood.vasc.'\n",
       "\\item 'Paneth'\n",
       "\\item 'Stem.TA'\n",
       "\\item 'neurons.enteroendocrine'\n",
       "\\item 'T.cell'\n",
       "\\item 'Macrophage'\n",
       "\\item 'Plasma'\n",
       "\\item 'BZE'\n",
       "\\item 'Goblet'\n",
       "\\item 'Tuft'\n",
       "\\item 'cDC.monocyte'\n",
       "\\item 'MZE'\n",
       "\\item 'TZE'\n",
       "\\end{enumerate*}\n"
      ],
      "text/markdown": [
       "1. 'Stroma'\n",
       "2. 'Lymphatic'\n",
       "3. 'Glial'\n",
       "4. 'Rest.B'\n",
       "5. 'Blood.vasc.'\n",
       "6. 'Paneth'\n",
       "7. 'Stem.TA'\n",
       "8. 'neurons.enteroendocrine'\n",
       "9. 'T.cell'\n",
       "10. 'Macrophage'\n",
       "11. 'Plasma'\n",
       "12. 'BZE'\n",
       "13. 'Goblet'\n",
       "14. 'Tuft'\n",
       "15. 'cDC.monocyte'\n",
       "16. 'MZE'\n",
       "17. 'TZE'\n",
       "\n",
       "\n"
      ],
      "text/plain": [
       " [1] \"Stroma\"                  \"Lymphatic\"              \n",
       " [3] \"Glial\"                   \"Rest.B\"                 \n",
       " [5] \"Blood.vasc.\"             \"Paneth\"                 \n",
       " [7] \"Stem.TA\"                 \"neurons.enteroendocrine\"\n",
       " [9] \"T.cell\"                  \"Macrophage\"             \n",
       "[11] \"Plasma\"                  \"BZE\"                    \n",
       "[13] \"Goblet\"                  \"Tuft\"                   \n",
       "[15] \"cDC.monocyte\"            \"MZE\"                    \n",
       "[17] \"TZE\"                    "
      ]
     },
     "metadata": {},
     "output_type": "display_data"
    }
   ],
   "source": [
    "senders_oi\n",
    "receivers_oi"
   ]
  },
  {
   "cell_type": "code",
   "execution_count": null,
   "id": "850138b4-54d6-45a8-927e-f3afaf1f937b",
   "metadata": {},
   "outputs": [],
   "source": []
  },
  {
   "cell_type": "code",
   "execution_count": 22,
   "id": "4b2380da-47a0-4b65-a2fd-c05077d4af16",
   "metadata": {},
   "outputs": [],
   "source": [
    "conditions_keep = c(\"g1\", \"g2\")\n",
    "sce = sce[, SummarizedExperiment::colData(sce)[,group_id] %in% \n",
    "            conditions_keep\n",
    "          ]"
   ]
  },
  {
   "cell_type": "code",
   "execution_count": null,
   "id": "21eefb40-c800-45aa-9402-c6a7fc178dbe",
   "metadata": {},
   "outputs": [],
   "source": []
  },
  {
   "cell_type": "code",
   "execution_count": 23,
   "id": "143a7a59-403b-4ac2-bc0a-4161735ea056",
   "metadata": {},
   "outputs": [
    {
     "data": {
      "text/html": [
       "<style>\n",
       ".list-inline {list-style: none; margin:0; padding: 0}\n",
       ".list-inline>li {display: inline-block}\n",
       ".list-inline>li:not(:last-child)::after {content: \"\\00b7\"; padding: 0 .5ex}\n",
       "</style>\n",
       "<ol class=list-inline><li>'orig.ident'</li><li>'nCount_RNA'</li><li>'nFeature_RNA'</li><li>'predicted.celltype'</li><li>'x'</li><li>'y'</li><li>'sample'</li><li>'ident'</li><li>'sizeFactor'</li></ol>\n"
      ],
      "text/latex": [
       "\\begin{enumerate*}\n",
       "\\item 'orig.ident'\n",
       "\\item 'nCount\\_RNA'\n",
       "\\item 'nFeature\\_RNA'\n",
       "\\item 'predicted.celltype'\n",
       "\\item 'x'\n",
       "\\item 'y'\n",
       "\\item 'sample'\n",
       "\\item 'ident'\n",
       "\\item 'sizeFactor'\n",
       "\\end{enumerate*}\n"
      ],
      "text/markdown": [
       "1. 'orig.ident'\n",
       "2. 'nCount_RNA'\n",
       "3. 'nFeature_RNA'\n",
       "4. 'predicted.celltype'\n",
       "5. 'x'\n",
       "6. 'y'\n",
       "7. 'sample'\n",
       "8. 'ident'\n",
       "9. 'sizeFactor'\n",
       "\n",
       "\n"
      ],
      "text/plain": [
       "[1] \"orig.ident\"         \"nCount_RNA\"         \"nFeature_RNA\"      \n",
       "[4] \"predicted.celltype\" \"x\"                  \"y\"                 \n",
       "[7] \"sample\"             \"ident\"              \"sizeFactor\"        "
      ]
     },
     "metadata": {},
     "output_type": "display_data"
    }
   ],
   "source": [
    "colnames(colData(sce))"
   ]
  },
  {
   "cell_type": "code",
   "execution_count": null,
   "id": "141a82a9-d706-4eb5-a8e4-31ee31186151",
   "metadata": {},
   "outputs": [],
   "source": [
    "#colnames(colData(sce)) <- make.names(colnames(colData(sce)),unique=TRUE)\n",
    "#colnames(colData(sce))"
   ]
  },
  {
   "cell_type": "code",
   "execution_count": null,
   "id": "ea2d186e-2aa5-47e2-8790-c0f181ad05c9",
   "metadata": {},
   "outputs": [],
   "source": [
    "#makes.names(sce[, SummarizedExperiment::colData(sce)[,celltype_id]"
   ]
  },
  {
   "cell_type": "code",
   "execution_count": null,
   "id": "1ac20655-ff23-4783-a181-9413f4b54400",
   "metadata": {},
   "outputs": [],
   "source": []
  },
  {
   "cell_type": "code",
   "execution_count": null,
   "id": "930dcf0c-60c2-4198-9ad6-872c47ee2de4",
   "metadata": {},
   "outputs": [],
   "source": []
  },
  {
   "cell_type": "code",
   "execution_count": 24,
   "id": "e263a132-99f9-4a16-a2f0-c546cc028558",
   "metadata": {},
   "outputs": [],
   "source": [
    "min_cells = 10\n",
    "abundance_info = get_abundance_info(\n",
    "  sce = sce, \n",
    "  sample_id = sample_id, group_id = group_id, celltype_id = celltype_id, \n",
    "  min_cells = min_cells, \n",
    "  senders_oi = senders_oi, receivers_oi = receivers_oi, \n",
    "  batches = batches\n",
    "  )"
   ]
  },
  {
   "cell_type": "code",
   "execution_count": 25,
   "id": "3a695134-1330-43db-bb06-0f995d27e68d",
   "metadata": {},
   "outputs": [
    {
     "data": {
      "image/png": "[encoded data removed]",
      "text/plain": [
       "plot without title"
      ]
     },
     "metadata": {
      "image/png": {
       "height": 420,
       "width": 420
      }
     },
     "output_type": "display_data"
    }
   ],
   "source": [
    "abundance_info$abund_plot_sample"
   ]
  },
  {
   "cell_type": "code",
   "execution_count": null,
   "id": "be298161-2570-4e3a-ad81-00d718c5485a",
   "metadata": {},
   "outputs": [],
   "source": []
  },
  {
   "cell_type": "code",
   "execution_count": 26,
   "id": "7f047a70-aed4-4729-a97c-f45d24a89620",
   "metadata": {},
   "outputs": [
    {
     "name": "stderr",
     "output_type": "stream",
     "text": [
      "\u001b[1m\u001b[22mJoining with `by = join_by(sample_id, group_id, celltype_id)`\n",
      "\u001b[1m\u001b[22m`summarise()` has grouped output by 'group_id'. You can override using the `.groups` argument.\n"
     ]
    },
    {
     "name": "stdout",
     "output_type": "stream",
     "text": [
      "[1] \"condition-specific celltypes:\"\n",
      "character(0)\n",
      "[1] \"absent celltypes:\"\n",
      " [1] \"BZE\"                     \"Blood.vasc.\"            \n",
      " [3] \"Glial\"                   \"Goblet\"                 \n",
      " [5] \"Lymphatic\"               \"MZE\"                    \n",
      " [7] \"Macrophage\"              \"Paneth\"                 \n",
      " [9] \"Plasma\"                  \"Rest.B\"                 \n",
      "[11] \"Stem.TA\"                 \"Stroma\"                 \n",
      "[13] \"T.cell\"                  \"TZE\"                    \n",
      "[15] \"Tuft\"                    \"cDC.monocyte\"           \n",
      "[17] \"neurons.enteroendocrine\"\n"
     ]
    }
   ],
   "source": [
    "# cell type filtering \n",
    "sample_group_celltype_df = abundance_info$abundance_data %>%\n",
    "  filter(n > min_cells) %>%\n",
    "  ungroup() %>%\n",
    "  distinct(sample_id, group_id) %>%\n",
    "  cross_join(\n",
    "    abundance_info$abundance_data %>%\n",
    "      ungroup() %>%\n",
    "      distinct(celltype_id)\n",
    "    ) %>%\n",
    "  arrange(sample_id)\n",
    "\n",
    "abundance_df = sample_group_celltype_df %>% left_join(\n",
    "  abundance_info$abundance_data %>% ungroup()\n",
    "  )\n",
    "\n",
    "abundance_df$n[is.na(abundance_df$n)] = 0\n",
    "abundance_df$keep[is.na(abundance_df$keep)] = FALSE\n",
    "abundance_df_summarized = abundance_df %>%\n",
    "  mutate(keep = as.logical(keep)) %>%\n",
    "  group_by(group_id, celltype_id) %>%\n",
    "  summarise(samples_present = sum((keep)))\n",
    "\n",
    "celltypes_absent_one_condition = abundance_df_summarized %>%\n",
    "  filter(samples_present == 0) %>% pull(celltype_id) %>% unique()\n",
    "# find truly condition-specific cell types by searching for cell types\n",
    "# truely absent in at least one condition\n",
    "\n",
    "celltypes_present_one_condition = abundance_df_summarized %>%\n",
    "  filter(samples_present >= 2) %>% pull(celltype_id) %>% unique()\n",
    "# require presence in at least 2 samples of one group so\n",
    "# it is really present in at least one condition\n",
    "\n",
    "condition_specific_celltypes = intersect(\n",
    "  celltypes_absent_one_condition,\n",
    "  celltypes_present_one_condition)\n",
    "\n",
    "total_nr_conditions = SummarizedExperiment::colData(sce)[,group_id] %>%\n",
    "  unique() %>% length()\n",
    "\n",
    "absent_celltypes = abundance_df_summarized %>%\n",
    "  filter(samples_present < 2) %>%\n",
    "  group_by(celltype_id) %>%\n",
    "  count() %>%\n",
    "  filter(n == total_nr_conditions) %>%\n",
    "  pull(celltype_id)\n",
    "\n",
    "print(\"condition-specific celltypes:\")\n",
    "## [1] \"condition-specific celltypes:\"\n",
    "print(condition_specific_celltypes)\n",
    "## [1] \"L_T_TIM3._CD38._HLADR.\"\n",
    "\n",
    "print(\"absent celltypes:\")\n",
    "## [1] \"absent celltypes:\"\n",
    "print(absent_celltypes)\n",
    "## character(0)"
   ]
  },
  {
   "cell_type": "code",
   "execution_count": 27,
   "id": "71779cf2-9018-434e-9bed-70855c7a54e3",
   "metadata": {},
   "outputs": [],
   "source": [
    "analyse_condition_specific_celltypes = FALSE\n",
    "\n",
    "if(analyse_condition_specific_celltypes == TRUE){\n",
    "  senders_oi = senders_oi %>% setdiff(absent_celltypes)\n",
    "  receivers_oi = receivers_oi %>% setdiff(absent_celltypes)\n",
    "} else {\n",
    "  senders_oi = senders_oi %>%\n",
    "    setdiff(union(absent_celltypes, condition_specific_celltypes))\n",
    "  receivers_oi = receivers_oi %>%\n",
    "    setdiff(union(absent_celltypes, condition_specific_celltypes))\n",
    "}\n",
    "\n",
    "sce = sce[, SummarizedExperiment::colData(sce)[,celltype_id] %in%\n",
    "            c(senders_oi, receivers_oi)\n",
    "          ]"
   ]
  },
  {
   "cell_type": "code",
   "execution_count": 28,
   "id": "1927b5f6-9a80-4c71-b586-2fe86677c678",
   "metadata": {},
   "outputs": [
    {
     "ename": "ERROR",
     "evalue": "\u001b[1m\u001b[33mError\u001b[39m in `dplyr::filter()`:\u001b[22m\n\u001b[1m\u001b[22m\u001b[36mℹ\u001b[39m In argument: `is.na(fraction_sample)`.\n\u001b[1mCaused by error:\u001b[22m\n\u001b[33m!\u001b[39m object 'fraction_sample' not found\n",
     "output_type": "error",
     "traceback": [
      "\u001b[1m\u001b[33mError\u001b[39m in `dplyr::filter()`:\u001b[22m\n\u001b[1m\u001b[22m\u001b[36mℹ\u001b[39m In argument: `is.na(fraction_sample)`.\n\u001b[1mCaused by error:\u001b[22m\n\u001b[33m!\u001b[39m object 'fraction_sample' not found\nTraceback:\n",
      "1. get_frac_exprs(sce = sce, sample_id = sample_id, celltype_id = celltype_id, \n .     group_id = group_id, batches = batches, min_cells = min_cells, \n .     fraction_cutoff = fraction_cutoff, min_sample_prop = min_sample_prop)",
      "2. nrow(frq_df %>% dplyr::filter(is.na(fraction_sample)))",
      "3. frq_df %>% dplyr::filter(is.na(fraction_sample))",
      "4. dplyr::filter(., is.na(fraction_sample))",
      "5. filter.data.frame(., is.na(fraction_sample))",
      "6. filter_rows(.data, dots, by)",
      "7. filter_eval(dots, mask = mask, error_call = error_call, user_env = user_env)",
      "8. withCallingHandlers(mask$eval_all_filter(dots, env_filter), error = dplyr_error_handler(dots = dots, \n .     mask = mask, bullets = filter_bullets, error_call = error_call), \n .     warning = function(cnd) {\n .         local_error_context(dots, i, mask)\n .         warning_handler(cnd)\n .     }, `dplyr:::signal_filter_one_column_matrix` = function(e) {\n .         warn_filter_one_column_matrix(env = error_call, user_env = user_env)\n .     }, `dplyr:::signal_filter_across` = function(e) {\n .         warn_filter_across(env = error_call, user_env = user_env)\n .     }, `dplyr:::signal_filter_data_frame` = function(e) {\n .         warn_filter_data_frame(env = error_call, user_env = user_env)\n .     })",
      "9. mask$eval_all_filter(dots, env_filter)",
      "10. eval()",
      "11. .handleSimpleError(function (cnd) \n  . {\n  .     local_error_context(dots, i = frame[[i_sym]], mask = mask)\n  .     if (inherits(cnd, \"dplyr:::internal_error\")) {\n  .         parent <- error_cnd(message = bullets(cnd))\n  .     }\n  .     else {\n  .         parent <- cnd\n  .     }\n  .     message <- c(cnd_bullet_header(action), i = if (has_active_group_context(mask)) cnd_bullet_cur_group_label())\n  .     abort(message, class = error_class, parent = parent, call = error_call)\n  . }, \"object 'fraction_sample' not found\", base::quote(NULL))",
      "12. h(simpleError(msg, call))",
      "13. abort(message, class = error_class, parent = parent, call = error_call)",
      "14. signal_abort(cnd, .file)"
     ]
    }
   ],
   "source": [
    "# Genes filtering \n",
    "min_sample_prop = 0.50\n",
    "fraction_cutoff = 0.05\n",
    "\n",
    "frq_list = get_frac_exprs(\n",
    "  sce = sce, \n",
    "  sample_id = sample_id, celltype_id =  celltype_id, group_id = group_id, \n",
    "  batches = batches, \n",
    "  min_cells = min_cells, \n",
    "  fraction_cutoff = fraction_cutoff, min_sample_prop = min_sample_prop)\n",
    "\n",
    "genes_oi = frq_list$expressed_df %>% \n",
    "  filter(expressed == TRUE) %>% pull(gene) %>% unique() \n",
    "sce = sce[genes_oi, ]"
   ]
  },
  {
   "cell_type": "code",
   "execution_count": null,
   "id": "710bb7dd-fce6-4953-960e-46966ca1bffa",
   "metadata": {},
   "outputs": [],
   "source": [
    "\n",
    "\n"
   ]
  },
  {
   "cell_type": "code",
   "execution_count": null,
   "id": "e061324a-e36d-40c5-adf7-08a2a30621e4",
   "metadata": {},
   "outputs": [],
   "source": []
  },
  {
   "cell_type": "code",
   "execution_count": 29,
   "id": "4131ffb7-6714-4688-a37f-c04412c4cb15",
   "metadata": {},
   "outputs": [
    {
     "ename": "ERROR",
     "evalue": "\u001b[1m\u001b[33mError\u001b[39m in `dplyr::select()`:\u001b[22m\n\u001b[33m!\u001b[39m Can't select columns that don't exist.\n\u001b[31m✖\u001b[39m Column `gene` doesn't exist.\n",
     "output_type": "error",
     "traceback": [
      "\u001b[1m\u001b[33mError\u001b[39m in `dplyr::select()`:\u001b[22m\n\u001b[33m!\u001b[39m Can't select columns that don't exist.\n\u001b[31m✖\u001b[39m Column `gene` doesn't exist.\nTraceback:\n",
      "1. process_abundance_expression_info(sce = sce, sample_id = sample_id, \n .     group_id = group_id, celltype_id = celltype_id, min_cells = min_cells, \n .     senders_oi = senders_oi, receivers_oi = receivers_oi, lr_network = lr_network, \n .     batches = batches, abundance_info = abundance_info)",
      "2. suppressMessages(get_avg_pb_exprs(sce = sce, sample_id = sample_id, \n .     celltype_id = celltype_id, group_id = group_id, batches = batches))",
      "3. withCallingHandlers(expr, message = function(c) if (inherits(c, \n .     classes)) tryInvokeRestart(\"muffleMessage\"))",
      "4. get_avg_pb_exprs(sce = sce, sample_id = sample_id, celltype_id = celltype_id, \n .     group_id = group_id, batches = batches)",
      "5. get_pseudobulk_logCPM_exprs(sce, sample_id = sample_id, celltype_id = celltype_id, \n .     group_id = group_id, batches = batches, assay_oi_pb = \"counts\", \n .     fun_oi_pb = \"sum\")",
      "6. sce$cluster_id %>% unique() %>% lapply(function(celltype_oi, \n .     pb) {\n .     pseudobulk_counts_celltype = edgeR::DGEList(pb@assays@data[[celltype_oi]])\n .     non_zero_samples = pseudobulk_counts_celltype %>% apply(2, \n .         sum) %>% .[. > 0] %>% names()\n .     pseudobulk_counts_celltype = pseudobulk_counts_celltype[, \n .         non_zero_samples]\n .     pseudobulk_counts_celltype = edgeR::calcNormFactors(pseudobulk_counts_celltype)\n .     pseudobulk_counts_celltype_df = dplyr::inner_join(pseudobulk_counts_celltype$sample %>% \n .         data.frame() %>% tibble::rownames_to_column(\"sample\") %>% \n .         dplyr::mutate(effective_library_size = lib.size * norm.factors), \n .         pseudobulk_counts_celltype$counts %>% data.frame() %>% \n .             tibble::rownames_to_column(\"gene\") %>% tidyr::gather(sample, \n .             pb_raw, -gene))\n .     pseudobulk_counts_celltype_df = pseudobulk_counts_celltype_df %>% \n .         dplyr::mutate(pb_norm = pb_raw/effective_library_size) %>% \n .         dplyr::mutate(pb_sample = log2((pb_norm * 1e+06) + 1)) %>% \n .         tibble::as_tibble() %>% dplyr::mutate(celltype = celltype_oi)\n . }, pb) %>% dplyr::bind_rows() %>% dplyr::select(gene, sample, \n .     pb_sample, celltype) %>% dplyr::distinct()",
      "7. dplyr::distinct(.)",
      "8. dplyr::select(., gene, sample, pb_sample, celltype)",
      "9. select.data.frame(., gene, sample, pb_sample, celltype)",
      "10. tidyselect::eval_select(expr(c(...)), data = .data, error_call = error_call)",
      "11. eval_select_impl(data, names(data), as_quosure(expr, env), include = include, \n  .     exclude = exclude, strict = strict, name_spec = name_spec, \n  .     allow_rename = allow_rename, allow_empty = allow_empty, allow_predicates = allow_predicates, \n  .     error_call = error_call, )",
      "12. with_subscript_errors(out <- vars_select_eval(vars, expr, strict = strict, \n  .     data = x, name_spec = name_spec, uniquely_named = uniquely_named, \n  .     allow_rename = allow_rename, allow_empty = allow_empty, allow_predicates = allow_predicates, \n  .     type = type, error_call = error_call), type = type)",
      "13. withCallingHandlers(expr, vctrs_error_subscript = function(cnd) {\n  .     cnd$subscript_action <- subscript_action(type)\n  .     cnd$subscript_elt <- \"column\"\n  .     cnd_signal(cnd)\n  . })",
      "14. vars_select_eval(vars, expr, strict = strict, data = x, name_spec = name_spec, \n  .     uniquely_named = uniquely_named, allow_rename = allow_rename, \n  .     allow_empty = allow_empty, allow_predicates = allow_predicates, \n  .     type = type, error_call = error_call)",
      "15. walk_data_tree(expr, data_mask, context_mask)",
      "16. eval_c(expr, data_mask, context_mask)",
      "17. reduce_sels(node, data_mask, context_mask, init = init)",
      "18. walk_data_tree(new, data_mask, context_mask)",
      "19. as_indices_sel_impl(out, vars = vars, strict = strict, data = data, \n  .     allow_predicates = allow_predicates, call = error_call, arg = as_label(expr))",
      "20. as_indices_impl(x, vars, call = call, arg = arg, strict = strict)",
      "21. chr_as_locations(x, vars, call = call, arg = arg)",
      "22. vctrs::vec_as_location(x, n = length(vars), names = vars, call = call, \n  .     arg = arg)",
      "23. (function () \n  . stop_subscript_oob(i = i, subscript_type = subscript_type, names = names, \n  .     subscript_action = subscript_action, subscript_arg = subscript_arg, \n  .     call = call))()",
      "24. stop_subscript_oob(i = i, subscript_type = subscript_type, names = names, \n  .     subscript_action = subscript_action, subscript_arg = subscript_arg, \n  .     call = call)",
      "25. stop_subscript(class = \"vctrs_error_subscript_oob\", i = i, subscript_type = subscript_type, \n  .     ..., call = call)",
      "26. abort(class = c(class, \"vctrs_error_subscript\"), i = i, ..., \n  .     call = call)",
      "27. signal_abort(cnd, .file)",
      "28. signalCondition(cnd)",
      "29. (function (cnd) \n  . {\n  .     cnd$subscript_action <- subscript_action(type)\n  .     cnd$subscript_elt <- \"column\"\n  .     cnd_signal(cnd)\n  . })(structure(list(message = \"\", trace = structure(list(call = list(\n  .     IRkernel::main(), kernel$run(), handle_shell(), executor$execute(msg), \n  .     tryCatch(evaluate(request$content$code, envir = .GlobalEnv, \n  .         output_handler = oh, stop_on_error = 1L), interrupt = function(cond) {\n  .         log_debug(\"Interrupt during execution\")\n  .         interrupted <<- TRUE\n  .     }, error = .self$handle_error), tryCatchList(expr, classes, \n  .         parentenv, handlers), tryCatchOne(tryCatchList(expr, \n  .         names[-nh], parentenv, handlers[-nh]), names[nh], parentenv, \n  .         handlers[[nh]]), doTryCatch(return(expr), name, parentenv, \n  .         handler), tryCatchList(expr, names[-nh], parentenv, handlers[-nh]), \n  .     tryCatchOne(expr, names, parentenv, handlers[[1L]]), doTryCatch(return(expr), \n  .         name, parentenv, handler), evaluate(request$content$code, \n  .         envir = .GlobalEnv, output_handler = oh, stop_on_error = 1L), \n  .     evaluate_call(expr, parsed$src[[i]], envir = envir, enclos = enclos, \n  .         debug = debug, last = i == length(out), use_try = stop_on_error != \n  .             2L, keep_warning = keep_warning, keep_message = keep_message, \n  .         log_echo = log_echo, log_warning = log_warning, output_handler = output_handler, \n  .         include_timing = include_timing), timing_fn(handle(ev <- withCallingHandlers(withVisible(eval_with_user_handlers(expr, \n  .         envir, enclos, user_handlers)), warning = wHandler, error = eHandler, \n  .         message = mHandler))), handle(ev <- withCallingHandlers(withVisible(eval_with_user_handlers(expr, \n  .         envir, enclos, user_handlers)), warning = wHandler, error = eHandler, \n  .         message = mHandler)), try(f, silent = TRUE), tryCatch(expr, \n  .         error = function(e) {\n  .             call <- conditionCall(e)\n  .             if (!is.null(call)) {\n  .                 if (identical(call[[1L]], quote(doTryCatch))) \n  .                   call <- sys.call(-4L)\n  .                 dcall <- deparse(call, nlines = 1L)\n  .                 prefix <- paste(\"Error in\", dcall, \": \")\n  .                 LONG <- 75L\n  .                 sm <- strsplit(conditionMessage(e), \"\\n\")[[1L]]\n  .                 w <- 14L + nchar(dcall, type = \"w\") + nchar(sm[1L], \n  .                   type = \"w\")\n  .                 if (is.na(w)) \n  .                   w <- 14L + nchar(dcall, type = \"b\") + nchar(sm[1L], \n  .                     type = \"b\")\n  .                 if (w > LONG) \n  .                   prefix <- paste0(prefix, \"\\n  \")\n  .             }\n  .             else prefix <- \"Error : \"\n  .             msg <- paste0(prefix, conditionMessage(e), \"\\n\")\n  .             .Internal(seterrmessage(msg[1L]))\n  .             if (!silent && isTRUE(getOption(\"show.error.messages\"))) {\n  .                 cat(msg, file = outFile)\n  .                 .Internal(printDeferredWarnings())\n  .             }\n  .             invisible(structure(msg, class = \"try-error\", condition = e))\n  .         }), tryCatchList(expr, classes, parentenv, handlers), \n  .     tryCatchOne(expr, names, parentenv, handlers[[1L]]), doTryCatch(return(expr), \n  .         name, parentenv, handler), withCallingHandlers(withVisible(eval_with_user_handlers(expr, \n  .         envir, enclos, user_handlers)), warning = wHandler, error = eHandler, \n  .         message = mHandler), withVisible(eval_with_user_handlers(expr, \n  .         envir, enclos, user_handlers)), eval_with_user_handlers(expr, \n  .         envir, enclos, user_handlers), eval(expr, envir, enclos), \n  .     eval(expr, envir, enclos), process_abundance_expression_info(sce = sce, \n  .         sample_id = sample_id, group_id = group_id, celltype_id = celltype_id, \n  .         min_cells = min_cells, senders_oi = senders_oi, receivers_oi = receivers_oi, \n  .         lr_network = lr_network, batches = batches, abundance_info = abundance_info), \n  .     suppressMessages(get_avg_pb_exprs(sce = sce, sample_id = sample_id, \n  .         celltype_id = celltype_id, group_id = group_id, batches = batches)), \n  .     withCallingHandlers(expr, message = function(c) if (inherits(c, \n  .         classes)) tryInvokeRestart(\"muffleMessage\")), get_avg_pb_exprs(sce = sce, \n  .         sample_id = sample_id, celltype_id = celltype_id, group_id = group_id, \n  .         batches = batches), get_pseudobulk_logCPM_exprs(sce, \n  .         sample_id = sample_id, celltype_id = celltype_id, group_id = group_id, \n  .         batches = batches, assay_oi_pb = \"counts\", fun_oi_pb = \"sum\"), \n  .     sce$cluster_id %>% unique() %>% lapply(function(celltype_oi, \n  .         pb) {\n  .         pseudobulk_counts_celltype = edgeR::DGEList(pb@assays@data[[celltype_oi]])\n  .         non_zero_samples = pseudobulk_counts_celltype %>% apply(2, \n  .             sum) %>% .[. > 0] %>% names()\n  .         pseudobulk_counts_celltype = pseudobulk_counts_celltype[, \n  .             non_zero_samples]\n  .         pseudobulk_counts_celltype = edgeR::calcNormFactors(pseudobulk_counts_celltype)\n  .         pseudobulk_counts_celltype_df = dplyr::inner_join(pseudobulk_counts_celltype$sample %>% \n  .             data.frame() %>% tibble::rownames_to_column(\"sample\") %>% \n  .             dplyr::mutate(effective_library_size = lib.size * \n  .                 norm.factors), pseudobulk_counts_celltype$counts %>% \n  .             data.frame() %>% tibble::rownames_to_column(\"gene\") %>% \n  .             tidyr::gather(sample, pb_raw, -gene))\n  .         pseudobulk_counts_celltype_df = pseudobulk_counts_celltype_df %>% \n  .             dplyr::mutate(pb_norm = pb_raw/effective_library_size) %>% \n  .             dplyr::mutate(pb_sample = log2((pb_norm * 1e+06) + \n  .                 1)) %>% tibble::as_tibble() %>% dplyr::mutate(celltype = celltype_oi)\n  .     }, pb) %>% dplyr::bind_rows() %>% dplyr::select(gene, sample, \n  .         pb_sample, celltype) %>% dplyr::distinct(), dplyr::distinct(.), \n  .     dplyr::select(., gene, sample, pb_sample, celltype), select.data.frame(., \n  .         gene, sample, pb_sample, celltype), tidyselect::eval_select(expr(c(...)), \n  .         data = .data, error_call = error_call), eval_select_impl(data, \n  .         names(data), as_quosure(expr, env), include = include, \n  .         exclude = exclude, strict = strict, name_spec = name_spec, \n  .         allow_rename = allow_rename, allow_empty = allow_empty, \n  .         allow_predicates = allow_predicates, error_call = error_call, \n  .         ), with_subscript_errors(out <- vars_select_eval(vars, \n  .         expr, strict = strict, data = x, name_spec = name_spec, \n  .         uniquely_named = uniquely_named, allow_rename = allow_rename, \n  .         allow_empty = allow_empty, allow_predicates = allow_predicates, \n  .         type = type, error_call = error_call), type = type), \n  .     withCallingHandlers(expr, vctrs_error_subscript = function(cnd) {\n  .         cnd$subscript_action <- subscript_action(type)\n  .         cnd$subscript_elt <- \"column\"\n  .         cnd_signal(cnd)\n  .     }), vars_select_eval(vars, expr, strict = strict, data = x, \n  .         name_spec = name_spec, uniquely_named = uniquely_named, \n  .         allow_rename = allow_rename, allow_empty = allow_empty, \n  .         allow_predicates = allow_predicates, type = type, error_call = error_call), \n  .     walk_data_tree(expr, data_mask, context_mask), eval_c(expr, \n  .         data_mask, context_mask), reduce_sels(node, data_mask, \n  .         context_mask, init = init), walk_data_tree(new, data_mask, \n  .         context_mask), as_indices_sel_impl(out, vars = vars, \n  .         strict = strict, data = data, allow_predicates = allow_predicates, \n  .         call = error_call, arg = as_label(expr)), as_indices_impl(x, \n  .         vars, call = call, arg = arg, strict = strict), chr_as_locations(x, \n  .         vars, call = call, arg = arg), vctrs::vec_as_location(x, \n  .         n = length(vars), names = vars, call = call, arg = arg), \n  .     `<fn>`(), stop_subscript_oob(i = i, subscript_type = subscript_type, \n  .         names = names, subscript_action = subscript_action, subscript_arg = subscript_arg, \n  .         call = call), stop_subscript(class = \"vctrs_error_subscript_oob\", \n  .         i = i, subscript_type = subscript_type, ..., call = call), \n  .     abort(class = c(class, \"vctrs_error_subscript\"), i = i, ..., \n  .         call = call)), parent = c(0L, 1L, 2L, 3L, 4L, 5L, 6L, \n  . 7L, 6L, 9L, 10L, 4L, 12L, 13L, 13L, 15L, 16L, 17L, 18L, 19L, \n  . 13L, 13L, 13L, 23L, 24L, 0L, 26L, 27L, 26L, 29L, 30L, 0L, 0L, \n  . 0L, 34L, 35L, 36L, 37L, 36L, 39L, 40L, 41L, 42L, 43L, 44L, 45L, \n  . 46L, 0L, 48L, 49L, 50L), visible = c(TRUE, TRUE, TRUE, TRUE, \n  . TRUE, TRUE, TRUE, TRUE, TRUE, TRUE, TRUE, TRUE, TRUE, TRUE, TRUE, \n  . TRUE, TRUE, TRUE, TRUE, TRUE, TRUE, TRUE, TRUE, TRUE, TRUE, TRUE, \n  . TRUE, TRUE, TRUE, TRUE, TRUE, TRUE, TRUE, TRUE, FALSE, FALSE, \n  . FALSE, FALSE, FALSE, FALSE, FALSE, FALSE, FALSE, FALSE, FALSE, \n  . FALSE, FALSE, FALSE, FALSE, FALSE, FALSE), namespace = c(\"IRkernel\", \n  . NA, \"IRkernel\", NA, \"base\", \"base\", \"base\", \"base\", \"base\", \"base\", \n  . \"base\", \"evaluate\", \"evaluate\", \"evaluate\", \"evaluate\", \"base\", \n  . \"base\", \"base\", \"base\", \"base\", \"base\", \"base\", \"evaluate\", \"base\", \n  . \"base\", \"multinichenetr\", \"base\", \"base\", \"multinichenetr\", \"multinichenetr\", \n  . NA, \"dplyr\", \"dplyr\", \"dplyr\", \"tidyselect\", \"tidyselect\", \"tidyselect\", \n  . \"base\", \"tidyselect\", \"tidyselect\", \"tidyselect\", \"tidyselect\", \n  . \"tidyselect\", \"tidyselect\", \"tidyselect\", \"tidyselect\", \"vctrs\", \n  . \"vctrs\", \"vctrs\", \"vctrs\", \"rlang\"), scope = c(\"::\", NA, \"local\", \n  . NA, \"::\", \"local\", \"local\", \"local\", \"local\", \"local\", \"local\", \n  . \"::\", \":::\", \"local\", \"local\", \"::\", \"::\", \"local\", \"local\", \n  . \"local\", \"::\", \"::\", \":::\", \"::\", \"::\", \"::\", \"::\", \"::\", \"::\", \n  . \"::\", NA, \"::\", \"::\", \":::\", \"::\", \":::\", \":::\", \"::\", \":::\", \n  . \":::\", \":::\", \":::\", \":::\", \":::\", \":::\", \":::\", \"::\", \"local\", \n  . \":::\", \":::\", \"::\"), error_frame = c(FALSE, FALSE, FALSE, FALSE, \n  . FALSE, FALSE, FALSE, FALSE, FALSE, FALSE, FALSE, FALSE, FALSE, \n  . FALSE, FALSE, FALSE, FALSE, FALSE, FALSE, FALSE, FALSE, FALSE, \n  . FALSE, FALSE, FALSE, FALSE, FALSE, FALSE, FALSE, FALSE, FALSE, \n  . FALSE, FALSE, TRUE, FALSE, FALSE, FALSE, FALSE, FALSE, FALSE, \n  . FALSE, FALSE, FALSE, FALSE, FALSE, FALSE, FALSE, FALSE, FALSE, \n  . FALSE, FALSE)), row.names = c(NA, -51L), version = 2L, class = c(\"rlang_trace\", \n  . \"rlib_trace\", \"tbl\", \"data.frame\")), parent = NULL, i = \"gene\", \n  .     subscript_type = \"character\", names = character(0), subscript_action = NULL, \n  .     subscript_arg = \"gene\", rlang = list(inherit = TRUE), call = dplyr::select(., \n  .         gene, sample, pb_sample, celltype)), class = c(\"vctrs_error_subscript_oob\", \n  . \"vctrs_error_subscript\", \"rlang_error\", \"error\", \"condition\")))",
      "30. cnd_signal(cnd)",
      "31. signal_abort(cnd)"
     ]
    }
   ],
   "source": [
    "abundance_expression_info = process_abundance_expression_info(\n",
    "  sce = sce,\n",
    "  sample_id = sample_id, group_id = group_id, celltype_id = celltype_id,\n",
    "  min_cells = min_cells,\n",
    "  senders_oi = senders_oi, receivers_oi = receivers_oi,\n",
    "  lr_network = lr_network,\n",
    "  batches = batches,\n",
    " \n",
    "  abundance_info = abundance_info)\n"
   ]
  },
  {
   "cell_type": "code",
   "execution_count": null,
   "id": "358e1bc5-afdc-4ea1-93d4-b26fb7627133",
   "metadata": {},
   "outputs": [],
   "source": [
    "abundance_expression_info$celltype_info$pb_df %>% head()"
   ]
  },
  {
   "cell_type": "code",
   "execution_count": null,
   "id": "a011caa2-8b15-4fe6-a0ec-7ed02cd9eba5",
   "metadata": {},
   "outputs": [],
   "source": [
    "abundance_expression_info$celltype_info$pb_df_group %>% head()"
   ]
  },
  {
   "cell_type": "code",
   "execution_count": null,
   "id": "bb78280f-69d2-4a83-b1d7-c62c32886620",
   "metadata": {},
   "outputs": [],
   "source": [
    "abundance_expression_info$sender_receiver_info$pb_df %>% head()"
   ]
  },
  {
   "cell_type": "code",
   "execution_count": null,
   "id": "69ba343f-53e3-4f6f-9783-5d50520ad474",
   "metadata": {},
   "outputs": [],
   "source": [
    "abundance_expression_info$sender_receiver_info$pb_df_group %>% head()"
   ]
  },
  {
   "cell_type": "code",
   "execution_count": null,
   "id": "a21fce65-afd2-41fa-99ab-2e9097df70f0",
   "metadata": {},
   "outputs": [],
   "source": []
  },
  {
   "cell_type": "code",
   "execution_count": null,
   "id": "11415422-cd85-470d-8231-c4f6529dc410",
   "metadata": {},
   "outputs": [],
   "source": []
  },
  {
   "cell_type": "code",
   "execution_count": null,
   "id": "8c7ffe10-3e2b-48e0-bd9a-84c515ae9881",
   "metadata": {},
   "outputs": [],
   "source": [
    "  DE_info = get_DE_info(\n",
    "  sce = sce,\n",
    "  sample_id = sample_id, group_id = group_id, celltype_id = celltype_id,\n",
    "  batches = batches, covariates = covariates,\n",
    "  contrasts_oi = contrasts_oi,\n",
    "  min_cells = min_cells,\n",
    "  expressed_df = frq_list$expressed_df)"
   ]
  },
  {
   "cell_type": "code",
   "execution_count": null,
   "id": "c0b817ca-f07a-402f-a1d8-e2b76ee2129c",
   "metadata": {},
   "outputs": [],
   "source": []
  },
  {
   "cell_type": "code",
   "execution_count": null,
   "id": "885017f6-0158-4bdb-a4fc-062b84fea170",
   "metadata": {},
   "outputs": [],
   "source": []
  },
  {
   "cell_type": "code",
   "execution_count": null,
   "id": "597c3c35-ea2b-4c6a-a706-6c12081421b6",
   "metadata": {},
   "outputs": [],
   "source": []
  },
  {
   "cell_type": "code",
   "execution_count": null,
   "id": "fbd582a9-fc7f-4c1c-9bea-d95047901124",
   "metadata": {},
   "outputs": [],
   "source": [
    "DE_info$celltype_de$de_output_tidy %>% head()\n",
    "\n",
    "DE_info$hist_pvals\n",
    "\n",
    "empirical_pval = FALSE\n",
    "\n",
    "if(empirical_pval == TRUE){\n",
    "  DE_info_emp = get_empirical_pvals(DE_info$celltype_de$de_output_tidy)\n",
    "  celltype_de = DE_info_emp$de_output_tidy_emp %>% select(-p_val, -p_adj) %>%\n",
    "    rename(p_val = p_emp, p_adj = p_adj_emp)\n",
    "} else {\n",
    "  celltype_de = DE_info$celltype_de$de_output_tidy\n",
    "}"
   ]
  },
  {
   "cell_type": "code",
   "execution_count": null,
   "id": "71f03799-1756-4ded-93b6-1db7220677b0",
   "metadata": {},
   "outputs": [],
   "source": []
  },
  {
   "cell_type": "code",
   "execution_count": null,
   "id": "b940f233-6097-44e8-a2c6-933d53af3a5b",
   "metadata": {},
   "outputs": [],
   "source": []
  },
  {
   "cell_type": "code",
   "execution_count": null,
   "id": "fb8c2e9e-96c3-4bba-a27e-b82367a7f87d",
   "metadata": {},
   "outputs": [],
   "source": [
    "sender_receiver_de = combine_sender_receiver_de(\n",
    "  sender_de = celltype_de,\n",
    "  receiver_de = celltype_de,\n",
    "  senders_oi = senders_oi,\n",
    "  receivers_oi = receivers_oi,\n",
    "  lr_network = lr_network\n",
    ")\n",
    "\n",
    "sender_receiver_de %>% head(20)"
   ]
  },
  {
   "cell_type": "code",
   "execution_count": null,
   "id": "0cc3780c-80de-41f7-b6aa-7e9a03b0ca67",
   "metadata": {},
   "outputs": [],
   "source": []
  },
  {
   "cell_type": "code",
   "execution_count": null,
   "id": "f2e29086-4478-474b-9b4d-c8edc2bf300f",
   "metadata": {},
   "outputs": [],
   "source": []
  },
  {
   "cell_type": "code",
   "execution_count": null,
   "id": "5378a0b0-ba45-4295-a82f-ff6390cfcf80",
   "metadata": {},
   "outputs": [],
   "source": []
  },
  {
   "cell_type": "code",
   "execution_count": null,
   "id": "f3d8600b-46cf-4cef-a295-ffe919efc33d",
   "metadata": {},
   "outputs": [],
   "source": []
  },
  {
   "cell_type": "code",
   "execution_count": 30,
   "id": "2dbfa51c-4d2a-41c2-8749-d7b5001ba89b",
   "metadata": {},
   "outputs": [
    {
     "ename": "ERROR",
     "evalue": "Error: object 'celltype_de' not found\n",
     "output_type": "error",
     "traceback": [
      "Error: object 'celltype_de' not found\nTraceback:\n",
      "1. contrast_tbl$contrast %>% lapply(process_geneset_data, celltype_de, \n .     logFC_threshold, p_val_adj, p_val_threshold) %>% bind_rows()",
      "2. bind_rows(.)",
      "3. list2(...)",
      "4. lapply(., process_geneset_data, celltype_de, logFC_threshold, \n .     p_val_adj, p_val_threshold)",
      "5. lapply(., process_geneset_data, celltype_de, logFC_threshold, \n .     p_val_adj, p_val_threshold)",
      "6. FUN(X[[i]], ...)",
      "7. receiver_de %>% filter(contrast == contrast_oi)",
      "8. filter(., contrast == contrast_oi)"
     ]
    }
   ],
   "source": [
    "logFC_threshold = 0.50\n",
    "p_val_threshold = 0.05\n",
    "\n",
    "p_val_adj = FALSE\n",
    "\n",
    "geneset_assessment = contrast_tbl$contrast %>%\n",
    "  lapply(\n",
    "    process_geneset_data,\n",
    "    celltype_de, logFC_threshold, p_val_adj, p_val_threshold\n",
    "  ) %>%\n",
    "  bind_rows()\n",
    "geneset_assessment\n",
    "\n",
    "geneset_assessment_adjustedPval = contrast_tbl$contrast %>%\n",
    "  lapply(\n",
    "    process_geneset_data,\n",
    "    celltype_de, logFC_threshold, p_val_adj = TRUE, p_val_threshold\n",
    "    ) %>%\n",
    "  bind_rows()\n",
    "geneset_assessment_adjustedPval"
   ]
  },
  {
   "cell_type": "code",
   "execution_count": null,
   "id": "54df9795-0eb2-4cc1-8199-501fa1d07941",
   "metadata": {},
   "outputs": [],
   "source": [
    "write.csv(geneset_assessment_adjustedPval,'gene_assessment_adj_pval.csv',quote=FALSE,row.names=TRUE)\n",
    "write.csv(geneset_assessment,'gene_assessment.csv',quote=FALSE,row.names=TRUE)"
   ]
  },
  {
   "cell_type": "code",
   "execution_count": null,
   "id": "2d14aa23-69bc-49b2-a08e-28038403ee77",
   "metadata": {},
   "outputs": [],
   "source": []
  },
  {
   "cell_type": "code",
   "execution_count": null,
   "id": "1fb8f020-e510-472c-9e95-b0a0a73859cb",
   "metadata": {},
   "outputs": [],
   "source": []
  },
  {
   "cell_type": "code",
   "execution_count": null,
   "id": "5f24ae64-f577-4761-9755-e35b05488a1e",
   "metadata": {},
   "outputs": [],
   "source": [
    "top_n_target = 250\n",
    "\n",
    "verbose = TRUE\n",
    "cores_system = 8\n",
    "n.cores = min(cores_system, celltype_de$cluster_id %>% unique() %>% length())\n",
    "\n",
    "ligand_activities_targets_DEgenes = suppressMessages(suppressWarnings(\n",
    "  get_ligand_activities_targets_DEgenes(\n",
    "    receiver_de = celltype_de,\n",
    "    receivers_oi = intersect(receivers_oi, celltype_de$cluster_id %>% unique()),\n",
    "    ligand_target_matrix = ligand_target_matrix,\n",
    "    logFC_threshold = logFC_threshold,\n",
    "    p_val_threshold = p_val_threshold,\n",
    "    p_val_adj = p_val_adj,\n",
    "    top_n_target = top_n_target,\n",
    "    verbose = verbose,\n",
    "    n.cores = n.cores\n",
    "  )\n",
    "))\n",
    "\n",
    "ligand_activities_targets_DEgenes$ligand_activities %>% head(20)\n"
   ]
  },
  {
   "cell_type": "code",
   "execution_count": null,
   "id": "8e1f34c4-6f7b-4e6f-8966-72ccc6cdf987",
   "metadata": {},
   "outputs": [],
   "source": [
    "write.csv(ligand_activities_targets_DEgenes$ligand_activities,'ligand_activities.csv',quote=FALSE,row.names=TRUE)"
   ]
  },
  {
   "cell_type": "code",
   "execution_count": null,
   "id": "47327ae0-411c-46e1-b359-d47fd471ea70",
   "metadata": {},
   "outputs": [],
   "source": []
  },
  {
   "cell_type": "code",
   "execution_count": null,
   "id": "e59e2d01-70ea-4171-82e7-f61f245aeb50",
   "metadata": {},
   "outputs": [],
   "source": []
  },
  {
   "cell_type": "code",
   "execution_count": null,
   "id": "a5a6cc99-178b-44da-8380-6d97d2f645e3",
   "metadata": {},
   "outputs": [],
   "source": []
  },
  {
   "cell_type": "code",
   "execution_count": null,
   "id": "46cc5c7e-50c2-4081-8ae2-8b054b044145",
   "metadata": {},
   "outputs": [],
   "source": []
  },
  {
   "cell_type": "code",
   "execution_count": null,
   "id": "e2682557-92b7-489e-8278-1d5bcf6011f0",
   "metadata": {},
   "outputs": [],
   "source": []
  },
  {
   "cell_type": "code",
   "execution_count": null,
   "id": "6d009aa5-c685-404f-b676-963fd0ccec9f",
   "metadata": {},
   "outputs": [],
   "source": []
  },
  {
   "cell_type": "code",
   "execution_count": null,
   "id": "8a012ac2-4e9e-406c-a437-c395c990c05b",
   "metadata": {},
   "outputs": [],
   "source": []
  },
  {
   "cell_type": "code",
   "execution_count": null,
   "id": "e5b00585-2901-4023-8e04-77db7e30e435",
   "metadata": {},
   "outputs": [],
   "source": [
    "multinichenet_output = multi_nichenet_analysis(\n",
    "  sce = sce, \n",
    "  celltype_id = 'celltype', sample_id = 'batch', group_id = 'batch', \n",
    "  batches = batches, covariates = covariates, \n",
    "  lr_network = lr_network, ligand_target_matrix = ligand_target_matrix, \n",
    "  contrasts_oi = contrasts_oi, contrast_tbl = contrast_tbl, \n",
    "  senders_oi = senders_oi, receivers_oi = receivers_oi,\n",
    "  min_cells = min_cells, \n",
    "  fraction_cutoff = fraction_cutoff, \n",
    "  min_sample_prop = min_sample_prop,\n",
    "  scenario = scenario, \n",
    "  ligand_activity_down = ligand_activity_down,\n",
    "  logFC_threshold = logFC_threshold, \n",
    "  p_val_threshold = p_val_threshold, \n",
    "  p_val_adj = p_val_adj, \n",
    "  empirical_pval = empirical_pval, \n",
    "  top_n_target = top_n_target, \n",
    "  n.cores = n.cores, \n",
    "  verbose = TRUE\n",
    "  )\n",
    "## [1] \"Make diagnostic abundance plots + define expressed genes\"\n",
    "## [1] \"condition-specific celltypes:\"\n",
    "## character(0)\n",
    "## [1] \"absent celltypes:\"\n",
    "## character(0)\n",
    "## [1] \"Samples are considered if they have more than 10 cells of the cell type of interest\"\n",
    "## [1] \"Genes with non-zero counts in at least 5% of cells of a cell type of interest in a particular sample will be considered as expressed in that sample.\"\n",
    "## [1] \"Genes expressed in at least 2.5 samples will considered as expressed in the cell type: L_NK_CD56._CD16.\"\n",
    "## [1] \"Genes expressed in at least 2.5 samples will considered as expressed in the cell type: L_T_TIM3._CD38._HLADR.\"\n",
    "## [1] \"Genes expressed in at least 2.5 samples will considered as expressed in the cell type: M_Monocyte_CD16\"\n",
    "## [1] \"6010 genes are considered as expressed in the cell type: L_NK_CD56._CD16.\"\n",
    "## [1] \"7589 genes are considered as expressed in the cell type: L_T_TIM3._CD38._HLADR.\"\n",
    "## [1] \"7798 genes are considered as expressed in the cell type: M_Monocyte_CD16\"\n",
    "## [1] \"Calculate differential expression for all cell types\"\n",
    "## [1] \"DE analysis is done:\"\n",
    "## [1] \"included cell types are:\"\n",
    "## [1] \"L_T_TIM3._CD38._HLADR.\" \"L_NK_CD56._CD16.\"       \"M_Monocyte_CD16\"       \n",
    "## [1] \"retained cell types\"\n",
    "## [1] \"L_T_TIM3._CD38._HLADR.\" \"L_NK_CD56._CD16.\"       \"M_Monocyte_CD16\"       \n",
    "## [1] \"Calculate normalized average and pseudobulk expression\"\n",
    "## [1] \"Calculate NicheNet ligand activities and ligand-target links\"\n",
    "## [1] \"Combine all the information in prioritization tables\"\n",
    "## [1] \"Calculate correlation between LR pairs and target genes\"\n",
    "## [1] \"There are no condition specific cell types in the data. MultiNicheNet analysis is performed in the regular way for all cell types.\""
   ]
  }
 ],
 "metadata": {
  "kernelspec": {
   "display_name": "R",
   "language": "R",
   "name": "ir"
  },
  "language_info": {
   "codemirror_mode": "r",
   "file_extension": ".r",
   "mimetype": "text/x-r-source",
   "name": "R",
   "pygments_lexer": "r",
   "version": "4.3.3"
  }
 },
 "nbformat": 4,
 "nbformat_minor": 5
}
